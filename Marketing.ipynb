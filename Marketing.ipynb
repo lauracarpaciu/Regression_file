{
 "cells": [
  {
   "cell_type": "markdown",
   "metadata": {},
   "source": [
    "# The Process\n",
    "\n",
    "\n",
    "Below is a typical workflow for a Data Science project such as mine.\n",
    "\n",
    "\n",
    "Define Objective\n",
    "\n",
    "Data Sources\n",
    "\n",
    "Explore Data\n",
    "\n",
    "Analysis Dataset\n",
    "•\tFeature Engineering\n",
    "•\tTraining Data\n",
    "•\tTest Data\n",
    "\n",
    "Machine Learning\n",
    "•\tTrain Model\n",
    "•\tPredict Test data\n",
    "•\tEvaluate Model\n",
    "\n",
    "\n",
    "\n",
    "# The Data\n",
    "\n",
    "\n",
    "I am going to use a dataset containing more than forty-thousand clients of a bank. The dataset is available as CSV files.\n",
    "\n",
    "\n",
    "# Setup\n",
    "\n",
    "\n",
    "First, I am going to load a few R libraries from CRAN - the Comprehensive R Archive Network - into the environment."
   ]
  },
  {
   "cell_type": "code",
   "execution_count": 1,
   "metadata": {},
   "outputs": [
    {
     "name": "stderr",
     "output_type": "stream",
     "text": [
      "Loading required package: pacman\n",
      "Warning message:\n",
      "\"package 'pacman' was built under R version 3.4.4\""
     ]
    }
   ],
   "source": [
    "# prepare the R environment\n",
    "if (!require(\"pacman\")) install.packages(\"pacman\")\n",
    "pacman::p_load(\n",
    "  dplyr,         # Data munging functions\n",
    "  zoo,              # Feature engineering rolling aggregates\n",
    "  data.table,       # Feature engineering\n",
    "  ggplot2,          # Graphics\n",
    "  scales,           # Time formatted axis\n",
    "  readr,            # Reading input files\n",
    "  stringr,          # String functions\n",
    "  reshape2,         # restructure and aggregate data \n",
    "  randomForest,     # Random forests\n",
    "  corrplot,         # correlation plots\n",
    "  Metrics,          # Eval metrics for ML\n",
    "  vcd               # Visualizing discrete distributions\n",
    ")"
   ]
  },
  {
   "cell_type": "code",
   "execution_count": 2,
   "metadata": {},
   "outputs": [],
   "source": [
    "# set options for plots\n",
    "options(repr.plot.width=6, repr.plot.height=6)"
   ]
  },
  {
   "cell_type": "code",
   "execution_count": 3,
   "metadata": {},
   "outputs": [
    {
     "data": {
      "text/html": [
       "<table>\n",
       "<thead><tr><th scope=col>age</th><th scope=col>job</th><th scope=col>marital</th><th scope=col>education</th><th scope=col>default</th><th scope=col>balance</th><th scope=col>housing</th><th scope=col>loan</th><th scope=col>contact</th><th scope=col>day</th><th scope=col>month</th><th scope=col>duration</th><th scope=col>campaign</th><th scope=col>pdays</th><th scope=col>previous</th><th scope=col>poutcome</th><th scope=col>y</th></tr></thead>\n",
       "<tbody>\n",
       "\t<tr><td>58          </td><td>management  </td><td>married     </td><td>tertiary    </td><td>no          </td><td>2143        </td><td>yes         </td><td>no          </td><td>unknown     </td><td>5           </td><td>may         </td><td>261         </td><td>1           </td><td>-1          </td><td>0           </td><td>unknown     </td><td>no          </td></tr>\n",
       "\t<tr><td>44          </td><td>technician  </td><td>single      </td><td>secondary   </td><td>no          </td><td>  29        </td><td>yes         </td><td>no          </td><td>unknown     </td><td>5           </td><td>may         </td><td>151         </td><td>1           </td><td>-1          </td><td>0           </td><td>unknown     </td><td>no          </td></tr>\n",
       "\t<tr><td>33          </td><td>entrepreneur</td><td>married     </td><td>secondary   </td><td>no          </td><td>   2        </td><td>yes         </td><td>yes         </td><td>unknown     </td><td>5           </td><td>may         </td><td> 76         </td><td>1           </td><td>-1          </td><td>0           </td><td>unknown     </td><td>no          </td></tr>\n",
       "\t<tr><td>47          </td><td>blue-collar </td><td>married     </td><td>unknown     </td><td>no          </td><td>1506        </td><td>yes         </td><td>no          </td><td>unknown     </td><td>5           </td><td>may         </td><td> 92         </td><td>1           </td><td>-1          </td><td>0           </td><td>unknown     </td><td>no          </td></tr>\n",
       "\t<tr><td>33          </td><td>unknown     </td><td>single      </td><td>unknown     </td><td>no          </td><td>   1        </td><td>no          </td><td>no          </td><td>unknown     </td><td>5           </td><td>may         </td><td>198         </td><td>1           </td><td>-1          </td><td>0           </td><td>unknown     </td><td>no          </td></tr>\n",
       "\t<tr><td>35          </td><td>management  </td><td>married     </td><td>tertiary    </td><td>no          </td><td> 231        </td><td>yes         </td><td>no          </td><td>unknown     </td><td>5           </td><td>may         </td><td>139         </td><td>1           </td><td>-1          </td><td>0           </td><td>unknown     </td><td>no          </td></tr>\n",
       "</tbody>\n",
       "</table>\n"
      ],
      "text/latex": [
       "\\begin{tabular}{r|lllllllllllllllll}\n",
       " age & job & marital & education & default & balance & housing & loan & contact & day & month & duration & campaign & pdays & previous & poutcome & y\\\\\n",
       "\\hline\n",
       "\t 58           & management   & married      & tertiary     & no           & 2143         & yes          & no           & unknown      & 5            & may          & 261          & 1            & -1           & 0            & unknown      & no          \\\\\n",
       "\t 44           & technician   & single       & secondary    & no           &   29         & yes          & no           & unknown      & 5            & may          & 151          & 1            & -1           & 0            & unknown      & no          \\\\\n",
       "\t 33           & entrepreneur & married      & secondary    & no           &    2         & yes          & yes          & unknown      & 5            & may          &  76          & 1            & -1           & 0            & unknown      & no          \\\\\n",
       "\t 47           & blue-collar  & married      & unknown      & no           & 1506         & yes          & no           & unknown      & 5            & may          &  92          & 1            & -1           & 0            & unknown      & no          \\\\\n",
       "\t 33           & unknown      & single       & unknown      & no           &    1         & no           & no           & unknown      & 5            & may          & 198          & 1            & -1           & 0            & unknown      & no          \\\\\n",
       "\t 35           & management   & married      & tertiary     & no           &  231         & yes          & no           & unknown      & 5            & may          & 139          & 1            & -1           & 0            & unknown      & no          \\\\\n",
       "\\end{tabular}\n"
      ],
      "text/markdown": [
       "\n",
       "age | job | marital | education | default | balance | housing | loan | contact | day | month | duration | campaign | pdays | previous | poutcome | y | \n",
       "|---|---|---|---|---|---|\n",
       "| 58           | management   | married      | tertiary     | no           | 2143         | yes          | no           | unknown      | 5            | may          | 261          | 1            | -1           | 0            | unknown      | no           | \n",
       "| 44           | technician   | single       | secondary    | no           |   29         | yes          | no           | unknown      | 5            | may          | 151          | 1            | -1           | 0            | unknown      | no           | \n",
       "| 33           | entrepreneur | married      | secondary    | no           |    2         | yes          | yes          | unknown      | 5            | may          |  76          | 1            | -1           | 0            | unknown      | no           | \n",
       "| 47           | blue-collar  | married      | unknown      | no           | 1506         | yes          | no           | unknown      | 5            | may          |  92          | 1            | -1           | 0            | unknown      | no           | \n",
       "| 33           | unknown      | single       | unknown      | no           |    1         | no           | no           | unknown      | 5            | may          | 198          | 1            | -1           | 0            | unknown      | no           | \n",
       "| 35           | management   | married      | tertiary     | no           |  231         | yes          | no           | unknown      | 5            | may          | 139          | 1            | -1           | 0            | unknown      | no           | \n",
       "\n",
       "\n"
      ],
      "text/plain": [
       "  age job          marital education default balance housing loan contact day\n",
       "1 58  management   married tertiary  no      2143    yes     no   unknown 5  \n",
       "2 44  technician   single  secondary no        29    yes     no   unknown 5  \n",
       "3 33  entrepreneur married secondary no         2    yes     yes  unknown 5  \n",
       "4 47  blue-collar  married unknown   no      1506    yes     no   unknown 5  \n",
       "5 33  unknown      single  unknown   no         1    no      no   unknown 5  \n",
       "6 35  management   married tertiary  no       231    yes     no   unknown 5  \n",
       "  month duration campaign pdays previous poutcome y \n",
       "1 may   261      1        -1    0        unknown  no\n",
       "2 may   151      1        -1    0        unknown  no\n",
       "3 may    76      1        -1    0        unknown  no\n",
       "4 may    92      1        -1    0        unknown  no\n",
       "5 may   198      1        -1    0        unknown  no\n",
       "6 may   139      1        -1    0        unknown  no"
      ]
     },
     "metadata": {},
     "output_type": "display_data"
    }
   ],
   "source": [
    "# Load the data\n",
    "bm <-\"C:\\\\Users\\\\Mirela\\\\RStudioProjects\\\\Marketing\\\\datasets\\\\bank-marketing.csv\"\n",
    "\n",
    "if(!file.exists(bm)){tryCatch(bm)}\n",
    "\n",
    "if(file.exists(bm)) bm_original <- read.csv(bm, header = TRUE, stringsAsFactors = FALSE, sep = \";\")\n",
    "\n",
    "head(bm_original)\n"
   ]
  },
  {
   "cell_type": "markdown",
   "metadata": {},
   "source": [
    "\n",
    "\n",
    "First let's perform some basic cleanup on the dataset.\n",
    "\n"
   ]
  },
  {
   "cell_type": "code",
   "execution_count": 4,
   "metadata": {},
   "outputs": [],
   "source": [
    "# eliminate any duplicates that may exist in the dataset\n",
    "\n",
    "bank <- bm_original%>%\n",
    "  distinct(.keep_all = TRUE,age, job, marital, education,balance)\n"
   ]
  },
  {
   "cell_type": "code",
   "execution_count": 5,
   "metadata": {},
   "outputs": [
    {
     "data": {
      "text/html": [
       "<table>\n",
       "<thead><tr><th scope=col>age</th><th scope=col>job</th><th scope=col>marital</th><th scope=col>education</th><th scope=col>default</th><th scope=col>balance</th><th scope=col>housing</th><th scope=col>loan</th><th scope=col>contact</th><th scope=col>day</th><th scope=col>month</th><th scope=col>duration</th><th scope=col>campaign</th><th scope=col>pdays</th><th scope=col>previous</th><th scope=col>poutcome</th><th scope=col>y</th><th scope=col>bank_id</th></tr></thead>\n",
       "<tbody>\n",
       "\t<tr><td>58          </td><td>management  </td><td>married     </td><td>tertiary    </td><td>no          </td><td>2143        </td><td>yes         </td><td>no          </td><td>unknown     </td><td>5           </td><td>may         </td><td>261         </td><td>1           </td><td>-1          </td><td>0           </td><td>unknown     </td><td>no          </td><td>1           </td></tr>\n",
       "\t<tr><td>44          </td><td>technician  </td><td>single      </td><td>secondary   </td><td>no          </td><td>  29        </td><td>yes         </td><td>no          </td><td>unknown     </td><td>5           </td><td>may         </td><td>151         </td><td>1           </td><td>-1          </td><td>0           </td><td>unknown     </td><td>no          </td><td>2           </td></tr>\n",
       "\t<tr><td>33          </td><td>entrepreneur</td><td>married     </td><td>secondary   </td><td>no          </td><td>   2        </td><td>yes         </td><td>yes         </td><td>unknown     </td><td>5           </td><td>may         </td><td> 76         </td><td>1           </td><td>-1          </td><td>0           </td><td>unknown     </td><td>no          </td><td>3           </td></tr>\n",
       "\t<tr><td>47          </td><td>blue-collar </td><td>married     </td><td>unknown     </td><td>no          </td><td>1506        </td><td>yes         </td><td>no          </td><td>unknown     </td><td>5           </td><td>may         </td><td> 92         </td><td>1           </td><td>-1          </td><td>0           </td><td>unknown     </td><td>no          </td><td>4           </td></tr>\n",
       "\t<tr><td>33          </td><td>unknown     </td><td>single      </td><td>unknown     </td><td>no          </td><td>   1        </td><td>no          </td><td>no          </td><td>unknown     </td><td>5           </td><td>may         </td><td>198         </td><td>1           </td><td>-1          </td><td>0           </td><td>unknown     </td><td>no          </td><td>5           </td></tr>\n",
       "\t<tr><td>35          </td><td>management  </td><td>married     </td><td>tertiary    </td><td>no          </td><td> 231        </td><td>yes         </td><td>no          </td><td>unknown     </td><td>5           </td><td>may         </td><td>139         </td><td>1           </td><td>-1          </td><td>0           </td><td>unknown     </td><td>no          </td><td>6           </td></tr>\n",
       "</tbody>\n",
       "</table>\n"
      ],
      "text/latex": [
       "\\begin{tabular}{r|llllllllllllllllll}\n",
       " age & job & marital & education & default & balance & housing & loan & contact & day & month & duration & campaign & pdays & previous & poutcome & y & bank\\_id\\\\\n",
       "\\hline\n",
       "\t 58           & management   & married      & tertiary     & no           & 2143         & yes          & no           & unknown      & 5            & may          & 261          & 1            & -1           & 0            & unknown      & no           & 1           \\\\\n",
       "\t 44           & technician   & single       & secondary    & no           &   29         & yes          & no           & unknown      & 5            & may          & 151          & 1            & -1           & 0            & unknown      & no           & 2           \\\\\n",
       "\t 33           & entrepreneur & married      & secondary    & no           &    2         & yes          & yes          & unknown      & 5            & may          &  76          & 1            & -1           & 0            & unknown      & no           & 3           \\\\\n",
       "\t 47           & blue-collar  & married      & unknown      & no           & 1506         & yes          & no           & unknown      & 5            & may          &  92          & 1            & -1           & 0            & unknown      & no           & 4           \\\\\n",
       "\t 33           & unknown      & single       & unknown      & no           &    1         & no           & no           & unknown      & 5            & may          & 198          & 1            & -1           & 0            & unknown      & no           & 5           \\\\\n",
       "\t 35           & management   & married      & tertiary     & no           &  231         & yes          & no           & unknown      & 5            & may          & 139          & 1            & -1           & 0            & unknown      & no           & 6           \\\\\n",
       "\\end{tabular}\n"
      ],
      "text/markdown": [
       "\n",
       "age | job | marital | education | default | balance | housing | loan | contact | day | month | duration | campaign | pdays | previous | poutcome | y | bank_id | \n",
       "|---|---|---|---|---|---|\n",
       "| 58           | management   | married      | tertiary     | no           | 2143         | yes          | no           | unknown      | 5            | may          | 261          | 1            | -1           | 0            | unknown      | no           | 1            | \n",
       "| 44           | technician   | single       | secondary    | no           |   29         | yes          | no           | unknown      | 5            | may          | 151          | 1            | -1           | 0            | unknown      | no           | 2            | \n",
       "| 33           | entrepreneur | married      | secondary    | no           |    2         | yes          | yes          | unknown      | 5            | may          |  76          | 1            | -1           | 0            | unknown      | no           | 3            | \n",
       "| 47           | blue-collar  | married      | unknown      | no           | 1506         | yes          | no           | unknown      | 5            | may          |  92          | 1            | -1           | 0            | unknown      | no           | 4            | \n",
       "| 33           | unknown      | single       | unknown      | no           |    1         | no           | no           | unknown      | 5            | may          | 198          | 1            | -1           | 0            | unknown      | no           | 5            | \n",
       "| 35           | management   | married      | tertiary     | no           |  231         | yes          | no           | unknown      | 5            | may          | 139          | 1            | -1           | 0            | unknown      | no           | 6            | \n",
       "\n",
       "\n"
      ],
      "text/plain": [
       "  age job          marital education default balance housing loan contact day\n",
       "1 58  management   married tertiary  no      2143    yes     no   unknown 5  \n",
       "2 44  technician   single  secondary no        29    yes     no   unknown 5  \n",
       "3 33  entrepreneur married secondary no         2    yes     yes  unknown 5  \n",
       "4 47  blue-collar  married unknown   no      1506    yes     no   unknown 5  \n",
       "5 33  unknown      single  unknown   no         1    no      no   unknown 5  \n",
       "6 35  management   married tertiary  no       231    yes     no   unknown 5  \n",
       "  month duration campaign pdays previous poutcome y  bank_id\n",
       "1 may   261      1        -1    0        unknown  no 1      \n",
       "2 may   151      1        -1    0        unknown  no 2      \n",
       "3 may    76      1        -1    0        unknown  no 3      \n",
       "4 may    92      1        -1    0        unknown  no 4      \n",
       "5 may   198      1        -1    0        unknown  no 5      \n",
       "6 may   139      1        -1    0        unknown  no 6      "
      ]
     },
     "metadata": {},
     "output_type": "display_data"
    },
    {
     "data": {
      "text/plain": [
       "      age            job              marital           education        \n",
       " Min.   :18.00   Length:39953       Length:39953       Length:39953      \n",
       " 1st Qu.:33.00   Class :character   Class :character   Class :character  \n",
       " Median :39.00   Mode  :character   Mode  :character   Mode  :character  \n",
       " Mean   :40.94                                                           \n",
       " 3rd Qu.:48.00                                                           \n",
       " Max.   :95.00                                                           \n",
       "   default             balance         housing              loan          \n",
       " Length:39953       Min.   : -8019   Length:39953       Length:39953      \n",
       " Class :character   1st Qu.:   106   Class :character   Class :character  \n",
       " Mode  :character   Median :   492   Mode  :character   Mode  :character  \n",
       "                    Mean   :  1411                                        \n",
       "                    3rd Qu.:  1500                                        \n",
       "                    Max.   :102127                                        \n",
       "   contact               day          month              duration     \n",
       " Length:39953       Min.   : 1.0   Length:39953       Min.   :   0.0  \n",
       " Class :character   1st Qu.: 8.0   Class :character   1st Qu.: 103.0  \n",
       " Mode  :character   Median :16.0   Mode  :character   Median : 180.0  \n",
       "                    Mean   :15.8                      Mean   : 259.7  \n",
       "                    3rd Qu.:21.0                      3rd Qu.: 320.0  \n",
       "                    Max.   :31.0                      Max.   :4918.0  \n",
       "    campaign          pdays           previous          poutcome        \n",
       " Min.   : 1.000   Min.   : -1.00   Min.   :  0.0000   Length:39953      \n",
       " 1st Qu.: 1.000   1st Qu.: -1.00   1st Qu.:  0.0000   Class :character  \n",
       " Median : 2.000   Median : -1.00   Median :  0.0000   Mode  :character  \n",
       " Mean   : 2.793   Mean   : 33.58   Mean   :  0.4251                     \n",
       " 3rd Qu.: 3.000   3rd Qu.: -1.00   3rd Qu.:  0.0000                     \n",
       " Max.   :63.000   Max.   :871.00   Max.   :275.0000                     \n",
       "      y                bank_id     \n",
       " Length:39953       Min.   :    1  \n",
       " Class :character   1st Qu.: 9989  \n",
       " Mode  :character   Median :19977  \n",
       "                    Mean   :19977  \n",
       "                    3rd Qu.:29965  \n",
       "                    Max.   :39953  "
      ]
     },
     "metadata": {},
     "output_type": "display_data"
    }
   ],
   "source": [
    "# generate an id column for future use (joins etc)\n",
    "bank$bank_id = seq.int(nrow(bank))\n",
    "\n",
    "head(bank)\n",
    "summary(bank)"
   ]
  },
  {
   "cell_type": "markdown",
   "metadata": {},
   "source": [
    "# Data Exploration and Visualisation\n",
    "\n",
    "\n",
    "R has some useful tools to turn it into a picture a dataset, the best way to understand - and a lot of them come with the very popular ggplot2 package.\n",
    "\n"
   ]
  },
  {
   "cell_type": "code",
   "execution_count": 6,
   "metadata": {},
   "outputs": [
    {
     "data": {},
     "metadata": {},
     "output_type": "display_data"
    },
    {
     "data": {
      "image/png": "[encoded data removed]",
      "text/plain": [
       "plot without title"
      ]
     },
     "metadata": {},
     "output_type": "display_data"
    }
   ],
   "source": [
    "# how many clients has got the bank regarding education & marital statut?\n",
    "bank %>%\n",
    "  ggplot(mapping = aes(education)) +\n",
    "  geom_bar(aes(fill=marital), width=1, color=\"black\") +\n",
    "  theme(legend.position = \"bottom\", legend.direction = \"vertical\") + ggtitle(\"Education vs marital statut\")\n"
   ]
  },
  {
   "cell_type": "code",
   "execution_count": 7,
   "metadata": {},
   "outputs": [
    {
     "data": {},
     "metadata": {},
     "output_type": "display_data"
    },
    {
     "data": {
      "image/png": "[encoded data removed]",
      "text/plain": [
       "plot without title"
      ]
     },
     "metadata": {},
     "output_type": "display_data"
    }
   ],
   "source": [
    "# how evolving the balance by clients age ? \n",
    "bank %>%\n",
    "  dplyr::group_by(age = age) %>%\n",
    "  dplyr::summarize(\n",
    "    totalcreditors = n(),\n",
    "    totalbalances = sum(balance),\n",
    "    balancespercreditors = totalbalances / totalcreditors\n",
    "  ) %>%\n",
    "  ggplot(mapping = aes(x = age, y = balancespercreditors)) +\n",
    "  geom_point() +\n",
    "  geom_smooth(method = \"loess\") + ggtitle(\"Balances per creditors,vs age\")"
   ]
  },
  {
   "cell_type": "code",
   "execution_count": 8,
   "metadata": {},
   "outputs": [
    {
     "data": {
      "text/plain": [
       "   Min. 1st Qu.  Median    Mean 3rd Qu.    Max. \n",
       "  -8019     106     492    1411    1500  102127 "
      ]
     },
     "metadata": {},
     "output_type": "display_data"
    }
   ],
   "source": [
    "summary(bank$balance)"
   ]
  },
  {
   "cell_type": "markdown",
   "metadata": {},
   "source": [
    "\n",
    "\n",
    "Now, we can create some aditional features about the education of the clients.\n",
    "\n",
    "\n"
   ]
  },
  {
   "cell_type": "code",
   "execution_count": 9,
   "metadata": {},
   "outputs": [
    {
     "data": {
      "text/html": [
       "<table>\n",
       "<thead><tr><th scope=col>age</th><th scope=col>job</th><th scope=col>marital</th><th scope=col>education</th><th scope=col>default</th><th scope=col>balance</th><th scope=col>housing</th><th scope=col>loan</th><th scope=col>contact</th><th scope=col>day</th><th scope=col>...</th><th scope=col>campaign</th><th scope=col>pdays</th><th scope=col>previous</th><th scope=col>poutcome</th><th scope=col>y</th><th scope=col>bank_id</th><th scope=col>tertiary</th><th scope=col>primary</th><th scope=col>secondary</th><th scope=col>unknown</th></tr></thead>\n",
       "<tbody>\n",
       "\t<tr><td>58          </td><td>management  </td><td>married     </td><td>tertiary    </td><td>no          </td><td>2143        </td><td>yes         </td><td>no          </td><td>unknown     </td><td>5           </td><td>...         </td><td>1           </td><td>-1          </td><td>0           </td><td>unknown     </td><td>no          </td><td>1           </td><td>FALSE       </td><td>FALSE       </td><td>FALSE       </td><td>FALSE       </td></tr>\n",
       "\t<tr><td>44          </td><td>technician  </td><td>single      </td><td>secondary   </td><td>no          </td><td>  29        </td><td>yes         </td><td>no          </td><td>unknown     </td><td>5           </td><td>...         </td><td>1           </td><td>-1          </td><td>0           </td><td>unknown     </td><td>no          </td><td>2           </td><td>FALSE       </td><td>FALSE       </td><td>FALSE       </td><td>FALSE       </td></tr>\n",
       "\t<tr><td>33          </td><td>entrepreneur</td><td>married     </td><td>secondary   </td><td>no          </td><td>   2        </td><td>yes         </td><td>yes         </td><td>unknown     </td><td>5           </td><td>...         </td><td>1           </td><td>-1          </td><td>0           </td><td>unknown     </td><td>no          </td><td>3           </td><td>FALSE       </td><td>FALSE       </td><td>FALSE       </td><td>FALSE       </td></tr>\n",
       "\t<tr><td>47          </td><td>blue-collar </td><td>married     </td><td>unknown     </td><td>no          </td><td>1506        </td><td>yes         </td><td>no          </td><td>unknown     </td><td>5           </td><td>...         </td><td>1           </td><td>-1          </td><td>0           </td><td>unknown     </td><td>no          </td><td>4           </td><td>FALSE       </td><td>FALSE       </td><td>FALSE       </td><td>FALSE       </td></tr>\n",
       "\t<tr><td>33          </td><td>unknown     </td><td>single      </td><td>unknown     </td><td>no          </td><td>   1        </td><td>no          </td><td>no          </td><td>unknown     </td><td>5           </td><td>...         </td><td>1           </td><td>-1          </td><td>0           </td><td>unknown     </td><td>no          </td><td>5           </td><td>FALSE       </td><td>FALSE       </td><td>FALSE       </td><td>FALSE       </td></tr>\n",
       "\t<tr><td>35          </td><td>management  </td><td>married     </td><td>tertiary    </td><td>no          </td><td> 231        </td><td>yes         </td><td>no          </td><td>unknown     </td><td>5           </td><td>...         </td><td>1           </td><td>-1          </td><td>0           </td><td>unknown     </td><td>no          </td><td>6           </td><td>FALSE       </td><td>FALSE       </td><td>FALSE       </td><td>FALSE       </td></tr>\n",
       "</tbody>\n",
       "</table>\n"
      ],
      "text/latex": [
       "\\begin{tabular}{r|llllllllllllllllllllll}\n",
       " age & job & marital & education & default & balance & housing & loan & contact & day & ... & campaign & pdays & previous & poutcome & y & bank\\_id & tertiary & primary & secondary & unknown\\\\\n",
       "\\hline\n",
       "\t 58           & management   & married      & tertiary     & no           & 2143         & yes          & no           & unknown      & 5            & ...          & 1            & -1           & 0            & unknown      & no           & 1            & FALSE        & FALSE        & FALSE        & FALSE       \\\\\n",
       "\t 44           & technician   & single       & secondary    & no           &   29         & yes          & no           & unknown      & 5            & ...          & 1            & -1           & 0            & unknown      & no           & 2            & FALSE        & FALSE        & FALSE        & FALSE       \\\\\n",
       "\t 33           & entrepreneur & married      & secondary    & no           &    2         & yes          & yes          & unknown      & 5            & ...          & 1            & -1           & 0            & unknown      & no           & 3            & FALSE        & FALSE        & FALSE        & FALSE       \\\\\n",
       "\t 47           & blue-collar  & married      & unknown      & no           & 1506         & yes          & no           & unknown      & 5            & ...          & 1            & -1           & 0            & unknown      & no           & 4            & FALSE        & FALSE        & FALSE        & FALSE       \\\\\n",
       "\t 33           & unknown      & single       & unknown      & no           &    1         & no           & no           & unknown      & 5            & ...          & 1            & -1           & 0            & unknown      & no           & 5            & FALSE        & FALSE        & FALSE        & FALSE       \\\\\n",
       "\t 35           & management   & married      & tertiary     & no           &  231         & yes          & no           & unknown      & 5            & ...          & 1            & -1           & 0            & unknown      & no           & 6            & FALSE        & FALSE        & FALSE        & FALSE       \\\\\n",
       "\\end{tabular}\n"
      ],
      "text/markdown": [
       "\n",
       "age | job | marital | education | default | balance | housing | loan | contact | day | ... | campaign | pdays | previous | poutcome | y | bank_id | tertiary | primary | secondary | unknown | \n",
       "|---|---|---|---|---|---|\n",
       "| 58           | management   | married      | tertiary     | no           | 2143         | yes          | no           | unknown      | 5            | ...          | 1            | -1           | 0            | unknown      | no           | 1            | FALSE        | FALSE        | FALSE        | FALSE        | \n",
       "| 44           | technician   | single       | secondary    | no           |   29         | yes          | no           | unknown      | 5            | ...          | 1            | -1           | 0            | unknown      | no           | 2            | FALSE        | FALSE        | FALSE        | FALSE        | \n",
       "| 33           | entrepreneur | married      | secondary    | no           |    2         | yes          | yes          | unknown      | 5            | ...          | 1            | -1           | 0            | unknown      | no           | 3            | FALSE        | FALSE        | FALSE        | FALSE        | \n",
       "| 47           | blue-collar  | married      | unknown      | no           | 1506         | yes          | no           | unknown      | 5            | ...          | 1            | -1           | 0            | unknown      | no           | 4            | FALSE        | FALSE        | FALSE        | FALSE        | \n",
       "| 33           | unknown      | single       | unknown      | no           |    1         | no           | no           | unknown      | 5            | ...          | 1            | -1           | 0            | unknown      | no           | 5            | FALSE        | FALSE        | FALSE        | FALSE        | \n",
       "| 35           | management   | married      | tertiary     | no           |  231         | yes          | no           | unknown      | 5            | ...          | 1            | -1           | 0            | unknown      | no           | 6            | FALSE        | FALSE        | FALSE        | FALSE        | \n",
       "\n",
       "\n"
      ],
      "text/plain": [
       "  age job          marital education default balance housing loan contact day\n",
       "1 58  management   married tertiary  no      2143    yes     no   unknown 5  \n",
       "2 44  technician   single  secondary no        29    yes     no   unknown 5  \n",
       "3 33  entrepreneur married secondary no         2    yes     yes  unknown 5  \n",
       "4 47  blue-collar  married unknown   no      1506    yes     no   unknown 5  \n",
       "5 33  unknown      single  unknown   no         1    no      no   unknown 5  \n",
       "6 35  management   married tertiary  no       231    yes     no   unknown 5  \n",
       "  ... campaign pdays previous poutcome y  bank_id tertiary primary secondary\n",
       "1 ... 1        -1    0        unknown  no 1       FALSE    FALSE   FALSE    \n",
       "2 ... 1        -1    0        unknown  no 2       FALSE    FALSE   FALSE    \n",
       "3 ... 1        -1    0        unknown  no 3       FALSE    FALSE   FALSE    \n",
       "4 ... 1        -1    0        unknown  no 4       FALSE    FALSE   FALSE    \n",
       "5 ... 1        -1    0        unknown  no 5       FALSE    FALSE   FALSE    \n",
       "6 ... 1        -1    0        unknown  no 6       FALSE    FALSE   FALSE    \n",
       "  unknown\n",
       "1 FALSE  \n",
       "2 FALSE  \n",
       "3 FALSE  \n",
       "4 FALSE  \n",
       "5 FALSE  \n",
       "6 FALSE  "
      ]
     },
     "metadata": {},
     "output_type": "display_data"
    }
   ],
   "source": [
    "# creditors education type: Tertiary, Primary, Secondary,Unknown\n",
    "\n",
    "bank$tertiary <- FALSE\n",
    "bank$tertiary[bank$education == \"Tertiary\"] <- TRUE\n",
    "\n",
    "bank$primary <- FALSE\n",
    "bank$primary[bank$education %like% \"Primary\"] <- TRUE\n",
    "\n",
    "bank$secondary <- FALSE\n",
    "bank$secondary[bank$education %like% \"Secondary\"] <- TRUE\n",
    "\n",
    "bank$unknown <- FALSE\n",
    "bank$unknown[bank$education %like% \"Unknown\"] <- TRUE\n",
    "\n",
    "head(bank)\n"
   ]
  },
  {
   "cell_type": "markdown",
   "metadata": {},
   "source": [
    "\n",
    "\n",
    "At this point, we're going to eliminate the clients with unknown education from the dataset.\n",
    "\n"
   ]
  },
  {
   "cell_type": "code",
   "execution_count": 10,
   "metadata": {},
   "outputs": [],
   "source": [
    "# not use unknown education creditors \n",
    "\n",
    "bank <- bank %>% dplyr::filter(unknown == FALSE)\n"
   ]
  },
  {
   "cell_type": "code",
   "execution_count": 11,
   "metadata": {},
   "outputs": [
    {
     "data": {
      "text/html": [
       "<table>\n",
       "<thead><tr><th scope=col>bank_id</th><th scope=col>age</th><th scope=col>job</th><th scope=col>marital</th><th scope=col>edumar</th><th scope=col>bal</th><th scope=col>housing</th><th scope=col>dtion</th></tr></thead>\n",
       "<tbody>\n",
       "\t<tr><td>1           </td><td>58          </td><td>management  </td><td>married     </td><td> TRUE       </td><td> TRUE       </td><td>yes         </td><td>FALSE       </td></tr>\n",
       "\t<tr><td>2           </td><td>44          </td><td>technician  </td><td>single      </td><td>FALSE       </td><td>FALSE       </td><td>yes         </td><td>FALSE       </td></tr>\n",
       "\t<tr><td>3           </td><td>33          </td><td>entrepreneur</td><td>married     </td><td>FALSE       </td><td>FALSE       </td><td>yes         </td><td> TRUE       </td></tr>\n",
       "\t<tr><td>4           </td><td>47          </td><td>blue-collar </td><td>married     </td><td>FALSE       </td><td> TRUE       </td><td>yes         </td><td> TRUE       </td></tr>\n",
       "\t<tr><td>5           </td><td>33          </td><td>unknown     </td><td>single      </td><td>FALSE       </td><td>FALSE       </td><td>no          </td><td>FALSE       </td></tr>\n",
       "\t<tr><td>6           </td><td>35          </td><td>management  </td><td>married     </td><td> TRUE       </td><td>FALSE       </td><td>yes         </td><td> TRUE       </td></tr>\n",
       "</tbody>\n",
       "</table>\n"
      ],
      "text/latex": [
       "\\begin{tabular}{r|llllllll}\n",
       " bank\\_id & age & job & marital & edumar & bal & housing & dtion\\\\\n",
       "\\hline\n",
       "\t 1            & 58           & management   & married      &  TRUE        &  TRUE        & yes          & FALSE       \\\\\n",
       "\t 2            & 44           & technician   & single       & FALSE        & FALSE        & yes          & FALSE       \\\\\n",
       "\t 3            & 33           & entrepreneur & married      & FALSE        & FALSE        & yes          &  TRUE       \\\\\n",
       "\t 4            & 47           & blue-collar  & married      & FALSE        &  TRUE        & yes          &  TRUE       \\\\\n",
       "\t 5            & 33           & unknown      & single       & FALSE        & FALSE        & no           & FALSE       \\\\\n",
       "\t 6            & 35           & management   & married      &  TRUE        & FALSE        & yes          &  TRUE       \\\\\n",
       "\\end{tabular}\n"
      ],
      "text/markdown": [
       "\n",
       "bank_id | age | job | marital | edumar | bal | housing | dtion | \n",
       "|---|---|---|---|---|---|\n",
       "| 1            | 58           | management   | married      |  TRUE        |  TRUE        | yes          | FALSE        | \n",
       "| 2            | 44           | technician   | single       | FALSE        | FALSE        | yes          | FALSE        | \n",
       "| 3            | 33           | entrepreneur | married      | FALSE        | FALSE        | yes          |  TRUE        | \n",
       "| 4            | 47           | blue-collar  | married      | FALSE        |  TRUE        | yes          |  TRUE        | \n",
       "| 5            | 33           | unknown      | single       | FALSE        | FALSE        | no           | FALSE        | \n",
       "| 6            | 35           | management   | married      |  TRUE        | FALSE        | yes          |  TRUE        | \n",
       "\n",
       "\n"
      ],
      "text/plain": [
       "  bank_id age job          marital edumar bal   housing dtion\n",
       "1 1       58  management   married  TRUE   TRUE yes     FALSE\n",
       "2 2       44  technician   single  FALSE  FALSE yes     FALSE\n",
       "3 3       33  entrepreneur married FALSE  FALSE yes      TRUE\n",
       "4 4       47  blue-collar  married FALSE   TRUE yes      TRUE\n",
       "5 5       33  unknown      single  FALSE  FALSE no      FALSE\n",
       "6 6       35  management   married  TRUE  FALSE yes      TRUE"
      ]
     },
     "metadata": {},
     "output_type": "display_data"
    }
   ],
   "source": [
    "# transform the bank - marketing  table into a bank performance table\n",
    "bkmk_perf <- bank %>%\n",
    "dplyr::mutate(\n",
    "bal = (balance > 1000),\n",
    "dtion = (duration < 150),\n",
    "edumar = (education == \"tertiary\" & marital == \"married\")\n",
    ") %>%\n",
    "dplyr::select (bank_id,age,job,marital,edumar,bal,housing,dtion)\n",
    "head(bkmk_perf)"
   ]
  },
  {
   "cell_type": "code",
   "execution_count": 12,
   "metadata": {},
   "outputs": [
    {
     "data": {},
     "metadata": {},
     "output_type": "display_data"
    },
    {
     "data": {
      "image/png": "[encoded data removed]",
      "text/plain": [
       "plot without title"
      ]
     },
     "metadata": {},
     "output_type": "display_data"
    }
   ],
   "source": [
    "formula_balpercentage <- function(totalcustomers, balance) {\n",
    "  return ((balance) / totalcustomers)\n",
    "}\n",
    "\n",
    "plot_balpercentage <- function(bkmk_perf, mincustomers) {\n",
    "  bkmk_perf %>%\n",
    "    group_by(job) %>%\n",
    "    summarize(\n",
    "      totalcustomers = n(),\n",
    "      balance = length(bal[bal==TRUE]),\n",
    "      balpercentage = formula_balpercentage(totalcustomers, balance)\n",
    "    ) %>%\n",
    "    filter(totalcustomers >= mincustomers ) %>%\n",
    "    ggplot(mapping = aes(x = balpercentage, y = totalcustomers)) +\n",
    "    geom_point(size = 1.5) + \n",
    "    geom_text(aes(label=job), hjust=-.2 , vjust=-.2, size=3) +\n",
    "    geom_vline(xintercept = .5, linetype = 2, color = \"red\") +\n",
    "    ggtitle(\"Balance Percentage vs Customers\") +\n",
    "    expand_limits(x = c(0,1))\n",
    "} \n",
    "\n",
    "plot_balpercentage(bkmk_perf, 900)"
   ]
  },
  {
   "cell_type": "code",
   "execution_count": 13,
   "metadata": {},
   "outputs": [],
   "source": [
    "# transform old job names into new ones( with CL).\n",
    "jobNodeMappings <- matrix(c(\n",
    "  \"management\",\"Management\",\n",
    "  \"technician\",\"Technician\",\n",
    "  \"entrepreneur\",\"Entrepreneur\",\n",
    "  \"blue-collar\",\"Blue-collar\",\n",
    "  \"unknown\",\"Unknown\",\n",
    "  \"services\",\"Services\",\n",
    "  \"retired\",\"Retired\"\n",
    "), ncol=2, byrow = TRUE)\n"
   ]
  },
  {
   "cell_type": "code",
   "execution_count": 14,
   "metadata": {},
   "outputs": [
    {
     "data": {
      "text/html": [
       "<table>\n",
       "<thead><tr><th scope=col>bank_id</th><th scope=col>age</th><th scope=col>job</th><th scope=col>marital</th><th scope=col>edumar</th><th scope=col>bal</th><th scope=col>housing</th><th scope=col>dtion</th></tr></thead>\n",
       "<tbody>\n",
       "\t<tr><td>1           </td><td>58          </td><td>Management  </td><td>married     </td><td> TRUE       </td><td> TRUE       </td><td>yes         </td><td>FALSE       </td></tr>\n",
       "\t<tr><td>2           </td><td>44          </td><td>Technician  </td><td>single      </td><td>FALSE       </td><td>FALSE       </td><td>yes         </td><td>FALSE       </td></tr>\n",
       "\t<tr><td>3           </td><td>33          </td><td>Entrepreneur</td><td>married     </td><td>FALSE       </td><td>FALSE       </td><td>yes         </td><td> TRUE       </td></tr>\n",
       "\t<tr><td>4           </td><td>47          </td><td>Blue-collar </td><td>married     </td><td>FALSE       </td><td> TRUE       </td><td>yes         </td><td> TRUE       </td></tr>\n",
       "\t<tr><td>5           </td><td>33          </td><td>Unknown     </td><td>single      </td><td>FALSE       </td><td>FALSE       </td><td>no          </td><td>FALSE       </td></tr>\n",
       "\t<tr><td>6           </td><td>35          </td><td>Management  </td><td>married     </td><td> TRUE       </td><td>FALSE       </td><td>yes         </td><td> TRUE       </td></tr>\n",
       "</tbody>\n",
       "</table>\n"
      ],
      "text/latex": [
       "\\begin{tabular}{r|llllllll}\n",
       " bank\\_id & age & job & marital & edumar & bal & housing & dtion\\\\\n",
       "\\hline\n",
       "\t 1            & 58           & Management   & married      &  TRUE        &  TRUE        & yes          & FALSE       \\\\\n",
       "\t 2            & 44           & Technician   & single       & FALSE        & FALSE        & yes          & FALSE       \\\\\n",
       "\t 3            & 33           & Entrepreneur & married      & FALSE        & FALSE        & yes          &  TRUE       \\\\\n",
       "\t 4            & 47           & Blue-collar  & married      & FALSE        &  TRUE        & yes          &  TRUE       \\\\\n",
       "\t 5            & 33           & Unknown      & single       & FALSE        & FALSE        & no           & FALSE       \\\\\n",
       "\t 6            & 35           & Management   & married      &  TRUE        & FALSE        & yes          &  TRUE       \\\\\n",
       "\\end{tabular}\n"
      ],
      "text/markdown": [
       "\n",
       "bank_id | age | job | marital | edumar | bal | housing | dtion | \n",
       "|---|---|---|---|---|---|\n",
       "| 1            | 58           | Management   | married      |  TRUE        |  TRUE        | yes          | FALSE        | \n",
       "| 2            | 44           | Technician   | single       | FALSE        | FALSE        | yes          | FALSE        | \n",
       "| 3            | 33           | Entrepreneur | married      | FALSE        | FALSE        | yes          |  TRUE        | \n",
       "| 4            | 47           | Blue-collar  | married      | FALSE        |  TRUE        | yes          |  TRUE        | \n",
       "| 5            | 33           | Unknown      | single       | FALSE        | FALSE        | no           | FALSE        | \n",
       "| 6            | 35           | Management   | married      |  TRUE        | FALSE        | yes          |  TRUE        | \n",
       "\n",
       "\n"
      ],
      "text/plain": [
       "  bank_id age job          marital edumar bal   housing dtion\n",
       "1 1       58  Management   married  TRUE   TRUE yes     FALSE\n",
       "2 2       44  Technician   single  FALSE  FALSE yes     FALSE\n",
       "3 3       33  Entrepreneur married FALSE  FALSE yes      TRUE\n",
       "4 4       47  Blue-collar  married FALSE   TRUE yes      TRUE\n",
       "5 5       33  Unknown      single  FALSE  FALSE no      FALSE\n",
       "6 6       35  Management   married  TRUE  FALSE yes      TRUE"
      ]
     },
     "metadata": {},
     "output_type": "display_data"
    }
   ],
   "source": [
    "for (i in 1:nrow(jobNodeMappings)) {\n",
    "  bkmk_perf$job[bkmk_perf$job == jobNodeMappings[i,1]] <- jobNodeMappings[i,2]\n",
    "  \n",
    "  bank$job[bank$job == jobNodeMappings[i,1]] <- jobNodeMappings[i,2]\n",
    "  \n",
    "}\n",
    "\n",
    "head(bkmk_perf)"
   ]
  },
  {
   "cell_type": "markdown",
   "metadata": {},
   "source": [
    "\n",
    "\n",
    "Since our model will predict bank marketing results, it would be useful to also look at the distribution of marital statut as well as balance per client.\n",
    "\n"
   ]
  },
  {
   "cell_type": "code",
   "execution_count": 15,
   "metadata": {},
   "outputs": [
    {
     "data": {
      "text/html": [
       "<table>\n",
       "<thead><tr><th scope=col>marital</th><th scope=col>job</th><th scope=col>n</th><th scope=col>freq</th><th scope=col>maritaltext</th></tr></thead>\n",
       "<tbody>\n",
       "\t<tr><td>married                 </td><td>Blue-collar             </td><td>6262                    </td><td>0.15673416              </td><td>married vs Blue-collar  </td></tr>\n",
       "\t<tr><td>married                 </td><td>Management              </td><td>4548                    </td><td>0.11383375              </td><td>married vs Management   </td></tr>\n",
       "\t<tr><td>married                 </td><td>Technician              </td><td>3468                    </td><td>0.08680199              </td><td>married vs Technician   </td></tr>\n",
       "\t<tr><td>single                  </td><td>Management              </td><td>2508                    </td><td>0.06277376              </td><td>single vs Management    </td></tr>\n",
       "\t<tr><td>married                 </td><td>admin.                  </td><td>2338                    </td><td>0.05851876              </td><td>married vs admin.       </td></tr>\n",
       "\t<tr><td>single                  </td><td>Technician              </td><td>2313                    </td><td>0.05789302              </td><td>single vs Technician    </td></tr>\n",
       "\t<tr><td>married                 </td><td>Services                </td><td>2156                    </td><td>0.05396341              </td><td>married vs Services     </td></tr>\n",
       "\t<tr><td>single                  </td><td>Blue-collar             </td><td>1852                    </td><td>0.04635447              </td><td>single vs Blue-collar   </td></tr>\n",
       "\t<tr><td>single                  </td><td>admin.                  </td><td>1540                    </td><td>0.03854529              </td><td>single vs admin.        </td></tr>\n",
       "\t<tr><td>married                 </td><td>Retired                 </td><td>1477                    </td><td>0.03696844              </td><td>married vs Retired      </td></tr>\n",
       "\t<tr><td>single                  </td><td>Services                </td><td>1106                    </td><td>0.02768253              </td><td>single vs Services      </td></tr>\n",
       "\t<tr><td>married                 </td><td>Entrepreneur            </td><td> 964                    </td><td>0.02412835              </td><td>married vs Entrepreneur </td></tr>\n",
       "\t<tr><td>divorced                </td><td>Management              </td><td> 963                    </td><td>0.02410332              </td><td>divorced vs Management  </td></tr>\n",
       "\t<tr><td>married                 </td><td>self-employed           </td><td> 898                    </td><td>0.02247641              </td><td>married vs self-employed</td></tr>\n",
       "\t<tr><td>divorced                </td><td>Technician              </td><td> 832                    </td><td>0.02082447              </td><td>divorced vs Technician  </td></tr>\n",
       "</tbody>\n",
       "</table>\n"
      ],
      "text/latex": [
       "\\begin{tabular}{r|lllll}\n",
       " marital & job & n & freq & maritaltext\\\\\n",
       "\\hline\n",
       "\t married                  & Blue-collar              & 6262                     & 0.15673416               & married vs Blue-collar  \\\\\n",
       "\t married                  & Management               & 4548                     & 0.11383375               & married vs Management   \\\\\n",
       "\t married                  & Technician               & 3468                     & 0.08680199               & married vs Technician   \\\\\n",
       "\t single                   & Management               & 2508                     & 0.06277376               & single vs Management    \\\\\n",
       "\t married                  & admin.                   & 2338                     & 0.05851876               & married vs admin.       \\\\\n",
       "\t single                   & Technician               & 2313                     & 0.05789302               & single vs Technician    \\\\\n",
       "\t married                  & Services                 & 2156                     & 0.05396341               & married vs Services     \\\\\n",
       "\t single                   & Blue-collar              & 1852                     & 0.04635447               & single vs Blue-collar   \\\\\n",
       "\t single                   & admin.                   & 1540                     & 0.03854529               & single vs admin.        \\\\\n",
       "\t married                  & Retired                  & 1477                     & 0.03696844               & married vs Retired      \\\\\n",
       "\t single                   & Services                 & 1106                     & 0.02768253               & single vs Services      \\\\\n",
       "\t married                  & Entrepreneur             &  964                     & 0.02412835               & married vs Entrepreneur \\\\\n",
       "\t divorced                 & Management               &  963                     & 0.02410332               & divorced vs Management  \\\\\n",
       "\t married                  & self-employed            &  898                     & 0.02247641               & married vs self-employed\\\\\n",
       "\t divorced                 & Technician               &  832                     & 0.02082447               & divorced vs Technician  \\\\\n",
       "\\end{tabular}\n"
      ],
      "text/markdown": [
       "\n",
       "marital | job | n | freq | maritaltext | \n",
       "|---|---|---|---|---|---|---|---|---|---|---|---|---|---|---|\n",
       "| married                  | Blue-collar              | 6262                     | 0.15673416               | married vs Blue-collar   | \n",
       "| married                  | Management               | 4548                     | 0.11383375               | married vs Management    | \n",
       "| married                  | Technician               | 3468                     | 0.08680199               | married vs Technician    | \n",
       "| single                   | Management               | 2508                     | 0.06277376               | single vs Management     | \n",
       "| married                  | admin.                   | 2338                     | 0.05851876               | married vs admin.        | \n",
       "| single                   | Technician               | 2313                     | 0.05789302               | single vs Technician     | \n",
       "| married                  | Services                 | 2156                     | 0.05396341               | married vs Services      | \n",
       "| single                   | Blue-collar              | 1852                     | 0.04635447               | single vs Blue-collar    | \n",
       "| single                   | admin.                   | 1540                     | 0.03854529               | single vs admin.         | \n",
       "| married                  | Retired                  | 1477                     | 0.03696844               | married vs Retired       | \n",
       "| single                   | Services                 | 1106                     | 0.02768253               | single vs Services       | \n",
       "| married                  | Entrepreneur             |  964                     | 0.02412835               | married vs Entrepreneur  | \n",
       "| divorced                 | Management               |  963                     | 0.02410332               | divorced vs Management   | \n",
       "| married                  | self-employed            |  898                     | 0.02247641               | married vs self-employed | \n",
       "| divorced                 | Technician               |  832                     | 0.02082447               | divorced vs Technician   | \n",
       "\n",
       "\n"
      ],
      "text/plain": [
       "   marital  job           n    freq       maritaltext             \n",
       "1  married  Blue-collar   6262 0.15673416 married vs Blue-collar  \n",
       "2  married  Management    4548 0.11383375 married vs Management   \n",
       "3  married  Technician    3468 0.08680199 married vs Technician   \n",
       "4  single   Management    2508 0.06277376 single vs Management    \n",
       "5  married  admin.        2338 0.05851876 married vs admin.       \n",
       "6  single   Technician    2313 0.05789302 single vs Technician    \n",
       "7  married  Services      2156 0.05396341 married vs Services     \n",
       "8  single   Blue-collar   1852 0.04635447 single vs Blue-collar   \n",
       "9  single   admin.        1540 0.03854529 single vs admin.        \n",
       "10 married  Retired       1477 0.03696844 married vs Retired      \n",
       "11 single   Services      1106 0.02768253 single vs Services      \n",
       "12 married  Entrepreneur   964 0.02412835 married vs Entrepreneur \n",
       "13 divorced Management     963 0.02410332 divorced vs Management  \n",
       "14 married  self-employed  898 0.02247641 married vs self-employed\n",
       "15 divorced Technician     832 0.02082447 divorced vs Technician  "
      ]
     },
     "metadata": {},
     "output_type": "display_data"
    }
   ],
   "source": [
    "# what is the occurence frequency for martital statut?\n",
    "\n",
    "maritalfreq <- bank %>%\n",
    "  group_by(marital,job) %>%\n",
    "  summarise(\n",
    "    n = n(),\n",
    "    freq = n / nrow(bank)\n",
    "  ) %>%\n",
    "  ungroup() %>%\n",
    "  mutate(\n",
    "    maritaltext = paste(marital,\"vs\",job)\n",
    "  ) %>%\n",
    "  arrange(desc(freq)) \n",
    "\n",
    "head(maritalfreq, 15)"
   ]
  },
  {
   "cell_type": "code",
   "execution_count": 16,
   "metadata": {},
   "outputs": [
    {
     "data": {
      "text/html": [
       "<table>\n",
       "<thead><tr><th scope=col>bal</th><th scope=col>n</th><th scope=col>freq</th></tr></thead>\n",
       "<tbody>\n",
       "\t<tr><td>  0        </td><td>1283       </td><td>0.032112732</td></tr>\n",
       "\t<tr><td>  1        </td><td> 171       </td><td>0.004280029</td></tr>\n",
       "\t<tr><td>  2        </td><td> 132       </td><td>0.003303882</td></tr>\n",
       "\t<tr><td>  3        </td><td> 119       </td><td>0.002978500</td></tr>\n",
       "\t<tr><td>  4        </td><td> 115       </td><td>0.002878382</td></tr>\n",
       "\t<tr><td>  5        </td><td> 102       </td><td>0.002553000</td></tr>\n",
       "\t<tr><td>  6        </td><td>  84       </td><td>0.002102470</td></tr>\n",
       "\t<tr><td>  8        </td><td>  74       </td><td>0.001852176</td></tr>\n",
       "\t<tr><td> 23        </td><td>  70       </td><td>0.001752059</td></tr>\n",
       "\t<tr><td> 10        </td><td>  64       </td><td>0.001601882</td></tr>\n",
       "\t<tr><td>  7        </td><td>  63       </td><td>0.001576853</td></tr>\n",
       "\t<tr><td> 11        </td><td>  62       </td><td>0.001551823</td></tr>\n",
       "\t<tr><td> 25        </td><td>  60       </td><td>0.001501765</td></tr>\n",
       "\t<tr><td> 20        </td><td>  59       </td><td>0.001476735</td></tr>\n",
       "\t<tr><td> 49        </td><td>  58       </td><td>0.001451706</td></tr>\n",
       "\t<tr><td> 21        </td><td>  57       </td><td>0.001426676</td></tr>\n",
       "\t<tr><td> 15        </td><td>  55       </td><td>0.001376618</td></tr>\n",
       "\t<tr><td> 19        </td><td>  55       </td><td>0.001376618</td></tr>\n",
       "\t<tr><td> 33        </td><td>  55       </td><td>0.001376618</td></tr>\n",
       "\t<tr><td> 16        </td><td>  54       </td><td>0.001351588</td></tr>\n",
       "\t<tr><td> 13        </td><td>  53       </td><td>0.001326559</td></tr>\n",
       "\t<tr><td> 47        </td><td>  52       </td><td>0.001301529</td></tr>\n",
       "\t<tr><td> 91        </td><td>  52       </td><td>0.001301529</td></tr>\n",
       "\t<tr><td>  9        </td><td>  51       </td><td>0.001276500</td></tr>\n",
       "\t<tr><td>145        </td><td>  51       </td><td>0.001276500</td></tr>\n",
       "</tbody>\n",
       "</table>\n"
      ],
      "text/latex": [
       "\\begin{tabular}{r|lll}\n",
       " bal & n & freq\\\\\n",
       "\\hline\n",
       "\t   0         & 1283        & 0.032112732\\\\\n",
       "\t   1         &  171        & 0.004280029\\\\\n",
       "\t   2         &  132        & 0.003303882\\\\\n",
       "\t   3         &  119        & 0.002978500\\\\\n",
       "\t   4         &  115        & 0.002878382\\\\\n",
       "\t   5         &  102        & 0.002553000\\\\\n",
       "\t   6         &   84        & 0.002102470\\\\\n",
       "\t   8         &   74        & 0.001852176\\\\\n",
       "\t  23         &   70        & 0.001752059\\\\\n",
       "\t  10         &   64        & 0.001601882\\\\\n",
       "\t   7         &   63        & 0.001576853\\\\\n",
       "\t  11         &   62        & 0.001551823\\\\\n",
       "\t  25         &   60        & 0.001501765\\\\\n",
       "\t  20         &   59        & 0.001476735\\\\\n",
       "\t  49         &   58        & 0.001451706\\\\\n",
       "\t  21         &   57        & 0.001426676\\\\\n",
       "\t  15         &   55        & 0.001376618\\\\\n",
       "\t  19         &   55        & 0.001376618\\\\\n",
       "\t  33         &   55        & 0.001376618\\\\\n",
       "\t  16         &   54        & 0.001351588\\\\\n",
       "\t  13         &   53        & 0.001326559\\\\\n",
       "\t  47         &   52        & 0.001301529\\\\\n",
       "\t  91         &   52        & 0.001301529\\\\\n",
       "\t   9         &   51        & 0.001276500\\\\\n",
       "\t 145         &   51        & 0.001276500\\\\\n",
       "\\end{tabular}\n"
      ],
      "text/markdown": [
       "\n",
       "bal | n | freq | \n",
       "|---|---|---|---|---|---|---|---|---|---|---|---|---|---|---|---|---|---|---|---|---|---|---|---|---|\n",
       "|   0         | 1283        | 0.032112732 | \n",
       "|   1         |  171        | 0.004280029 | \n",
       "|   2         |  132        | 0.003303882 | \n",
       "|   3         |  119        | 0.002978500 | \n",
       "|   4         |  115        | 0.002878382 | \n",
       "|   5         |  102        | 0.002553000 | \n",
       "|   6         |   84        | 0.002102470 | \n",
       "|   8         |   74        | 0.001852176 | \n",
       "|  23         |   70        | 0.001752059 | \n",
       "|  10         |   64        | 0.001601882 | \n",
       "|   7         |   63        | 0.001576853 | \n",
       "|  11         |   62        | 0.001551823 | \n",
       "|  25         |   60        | 0.001501765 | \n",
       "|  20         |   59        | 0.001476735 | \n",
       "|  49         |   58        | 0.001451706 | \n",
       "|  21         |   57        | 0.001426676 | \n",
       "|  15         |   55        | 0.001376618 | \n",
       "|  19         |   55        | 0.001376618 | \n",
       "|  33         |   55        | 0.001376618 | \n",
       "|  16         |   54        | 0.001351588 | \n",
       "|  13         |   53        | 0.001326559 | \n",
       "|  47         |   52        | 0.001301529 | \n",
       "|  91         |   52        | 0.001301529 | \n",
       "|   9         |   51        | 0.001276500 | \n",
       "| 145         |   51        | 0.001276500 | \n",
       "\n",
       "\n"
      ],
      "text/plain": [
       "   bal n    freq       \n",
       "1    0 1283 0.032112732\n",
       "2    1  171 0.004280029\n",
       "3    2  132 0.003303882\n",
       "4    3  119 0.002978500\n",
       "5    4  115 0.002878382\n",
       "6    5  102 0.002553000\n",
       "7    6   84 0.002102470\n",
       "8    8   74 0.001852176\n",
       "9   23   70 0.001752059\n",
       "10  10   64 0.001601882\n",
       "11   7   63 0.001576853\n",
       "12  11   62 0.001551823\n",
       "13  25   60 0.001501765\n",
       "14  20   59 0.001476735\n",
       "15  49   58 0.001451706\n",
       "16  21   57 0.001426676\n",
       "17  15   55 0.001376618\n",
       "18  19   55 0.001376618\n",
       "19  33   55 0.001376618\n",
       "20  16   54 0.001351588\n",
       "21  13   53 0.001326559\n",
       "22  47   52 0.001301529\n",
       "23  91   52 0.001301529\n",
       "24   9   51 0.001276500\n",
       "25 145   51 0.001276500"
      ]
     },
     "metadata": {},
     "output_type": "display_data"
    }
   ],
   "source": [
    "# distribution of balance per customer\n",
    "balancefreq <- bank %>%\n",
    "  group_by(bal= balance) %>%\n",
    "  summarise(\n",
    "    n = n(),\n",
    "    freq = n / nrow(bank)\n",
    "  ) %>%\n",
    "  ungroup() %>%\n",
    "  arrange(desc(freq)) \n",
    "\n",
    "head(balancefreq, 25)"
   ]
  },
  {
   "cell_type": "code",
   "execution_count": 17,
   "metadata": {},
   "outputs": [
    {
     "data": {},
     "metadata": {},
     "output_type": "display_data"
    },
    {
     "data": {
      "image/png": "[encoded data removed]",
      "text/plain": [
       "plot without title"
      ]
     },
     "metadata": {},
     "output_type": "display_data"
    }
   ],
   "source": [
    "balancefreq %>%\n",
    "  filter(freq >= 0.001) %>%\n",
    "  ggplot(mapping = aes(x = bal, y = freq)) + geom_bar(stat = \"identity\") + ggtitle(\"Balance  per customer distribution\")"
   ]
  },
  {
   "cell_type": "code",
   "execution_count": 18,
   "metadata": {},
   "outputs": [
    {
     "data": {
      "text/html": [
       "<table>\n",
       "<thead><tr><th scope=col>ctage</th><th scope=col>n</th><th scope=col>freq</th></tr></thead>\n",
       "<tbody>\n",
       "\t<tr><td>18          </td><td>   9        </td><td>0.0002252647</td></tr>\n",
       "\t<tr><td>19          </td><td>  29        </td><td>0.0007258529</td></tr>\n",
       "\t<tr><td>20          </td><td>  42        </td><td>0.0010512352</td></tr>\n",
       "\t<tr><td>21          </td><td>  72        </td><td>0.0018021175</td></tr>\n",
       "\t<tr><td>22          </td><td> 116        </td><td>0.0029034115</td></tr>\n",
       "\t<tr><td>23          </td><td> 186        </td><td>0.0046554702</td></tr>\n",
       "\t<tr><td>24          </td><td> 276        </td><td>0.0069081170</td></tr>\n",
       "\t<tr><td>25          </td><td> 477        </td><td>0.0119390284</td></tr>\n",
       "\t<tr><td>26          </td><td> 732        </td><td>0.0183215278</td></tr>\n",
       "\t<tr><td>27          </td><td> 832        </td><td>0.0208244688</td></tr>\n",
       "\t<tr><td>28          </td><td> 940        </td><td>0.0235276450</td></tr>\n",
       "\t<tr><td>29          </td><td>1060        </td><td>0.0265311741</td></tr>\n",
       "\t<tr><td>30          </td><td>1563        </td><td>0.0391209671</td></tr>\n",
       "\t<tr><td>31          </td><td>1733        </td><td>0.0433759668</td></tr>\n",
       "\t<tr><td>32          </td><td>1809        </td><td>0.0452782019</td></tr>\n",
       "</tbody>\n",
       "</table>\n"
      ],
      "text/latex": [
       "\\begin{tabular}{r|lll}\n",
       " ctage & n & freq\\\\\n",
       "\\hline\n",
       "\t 18           &    9         & 0.0002252647\\\\\n",
       "\t 19           &   29         & 0.0007258529\\\\\n",
       "\t 20           &   42         & 0.0010512352\\\\\n",
       "\t 21           &   72         & 0.0018021175\\\\\n",
       "\t 22           &  116         & 0.0029034115\\\\\n",
       "\t 23           &  186         & 0.0046554702\\\\\n",
       "\t 24           &  276         & 0.0069081170\\\\\n",
       "\t 25           &  477         & 0.0119390284\\\\\n",
       "\t 26           &  732         & 0.0183215278\\\\\n",
       "\t 27           &  832         & 0.0208244688\\\\\n",
       "\t 28           &  940         & 0.0235276450\\\\\n",
       "\t 29           & 1060         & 0.0265311741\\\\\n",
       "\t 30           & 1563         & 0.0391209671\\\\\n",
       "\t 31           & 1733         & 0.0433759668\\\\\n",
       "\t 32           & 1809         & 0.0452782019\\\\\n",
       "\\end{tabular}\n"
      ],
      "text/markdown": [
       "\n",
       "ctage | n | freq | \n",
       "|---|---|---|---|---|---|---|---|---|---|---|---|---|---|---|\n",
       "| 18           |    9         | 0.0002252647 | \n",
       "| 19           |   29         | 0.0007258529 | \n",
       "| 20           |   42         | 0.0010512352 | \n",
       "| 21           |   72         | 0.0018021175 | \n",
       "| 22           |  116         | 0.0029034115 | \n",
       "| 23           |  186         | 0.0046554702 | \n",
       "| 24           |  276         | 0.0069081170 | \n",
       "| 25           |  477         | 0.0119390284 | \n",
       "| 26           |  732         | 0.0183215278 | \n",
       "| 27           |  832         | 0.0208244688 | \n",
       "| 28           |  940         | 0.0235276450 | \n",
       "| 29           | 1060         | 0.0265311741 | \n",
       "| 30           | 1563         | 0.0391209671 | \n",
       "| 31           | 1733         | 0.0433759668 | \n",
       "| 32           | 1809         | 0.0452782019 | \n",
       "\n",
       "\n"
      ],
      "text/plain": [
       "   ctage n    freq        \n",
       "1  18       9 0.0002252647\n",
       "2  19      29 0.0007258529\n",
       "3  20      42 0.0010512352\n",
       "4  21      72 0.0018021175\n",
       "5  22     116 0.0029034115\n",
       "6  23     186 0.0046554702\n",
       "7  24     276 0.0069081170\n",
       "8  25     477 0.0119390284\n",
       "9  26     732 0.0183215278\n",
       "10 27     832 0.0208244688\n",
       "11 28     940 0.0235276450\n",
       "12 29    1060 0.0265311741\n",
       "13 30    1563 0.0391209671\n",
       "14 31    1733 0.0433759668\n",
       "15 32    1809 0.0452782019"
      ]
     },
     "metadata": {},
     "output_type": "display_data"
    }
   ],
   "source": [
    "# distribution of customer age\n",
    "agefreq <- bank %>%\n",
    "  group_by(ctage = age) %>%\n",
    "  summarise(\n",
    "    n = n(),\n",
    "    freq = n / nrow(bank)\n",
    "  ) %>%\n",
    "  ungroup() %>%\n",
    "  arrange(ctage) \n",
    "\n",
    "head(agefreq %>% filter(abs(ctage)<=35), 15)"
   ]
  },
  {
   "cell_type": "code",
   "execution_count": 19,
   "metadata": {},
   "outputs": [
    {
     "data": {},
     "metadata": {},
     "output_type": "display_data"
    },
    {
     "data": {
      "image/png": "[encoded data removed]",
      "text/plain": [
       "plot without title"
      ]
     },
     "metadata": {},
     "output_type": "display_data"
    }
   ],
   "source": [
    "agefreq %>%\n",
    "  filter(abs(ctage)<=35) %>%\n",
    "  ggplot(mapping = aes(x = ctage, y = freq)) + geom_bar(stat = \"identity\") + ggtitle(\"Customer age distribution\")"
   ]
  },
  {
   "cell_type": "markdown",
   "metadata": {},
   "source": [
    "# Outliers\n",
    "\n",
    "I'd like to get rid of outliers - values which are far away at the end of the spectrum of possible values for this variable. The reason is that outliers can drastically change the results of the data analysis and statistical modeling. Outliers increase the error variance, reduce the power of statistical tests, and ultimately they can bias or influence estimates.\n",
    "\n"
   ]
  },
  {
   "cell_type": "code",
   "execution_count": 20,
   "metadata": {},
   "outputs": [
    {
     "data": {
      "text/html": [
       "<table>\n",
       "<thead><tr><th scope=col>age</th><th scope=col>job</th><th scope=col>marital</th><th scope=col>education</th><th scope=col>default</th><th scope=col>balance</th><th scope=col>housing</th><th scope=col>loan</th><th scope=col>contact</th><th scope=col>day</th><th scope=col>...</th><th scope=col>campaign</th><th scope=col>pdays</th><th scope=col>previous</th><th scope=col>poutcome</th><th scope=col>y</th><th scope=col>bank_id</th><th scope=col>tertiary</th><th scope=col>primary</th><th scope=col>secondary</th><th scope=col>unknown</th></tr></thead>\n",
       "<tbody>\n",
       "\t<tr><td>51         </td><td>Management </td><td>married    </td><td>tertiary   </td><td>no         </td><td>10635      </td><td>yes        </td><td>no         </td><td>unknown    </td><td>5          </td><td>...        </td><td>1          </td><td>-1         </td><td>0          </td><td>unknown    </td><td>no         </td><td> 35        </td><td>FALSE      </td><td>FALSE      </td><td>FALSE      </td><td>FALSE      </td></tr>\n",
       "\t<tr><td>35         </td><td>Blue-collar</td><td>single     </td><td>secondary  </td><td>no         </td><td>12223      </td><td>yes        </td><td>yes        </td><td>unknown    </td><td>5          </td><td>...        </td><td>1          </td><td>-1         </td><td>0          </td><td>unknown    </td><td>no         </td><td> 70        </td><td>FALSE      </td><td>FALSE      </td><td>FALSE      </td><td>FALSE      </td></tr>\n",
       "\t<tr><td>45         </td><td>Management </td><td>divorced   </td><td>tertiary   </td><td>no         </td><td>24598      </td><td>yes        </td><td>no         </td><td>unknown    </td><td>5          </td><td>...        </td><td>3          </td><td>-1         </td><td>0          </td><td>unknown    </td><td>no         </td><td>335        </td><td>FALSE      </td><td>FALSE      </td><td>FALSE      </td><td>FALSE      </td></tr>\n",
       "\t<tr><td>40         </td><td>Management </td><td>married    </td><td>secondary  </td><td>no         </td><td> 8486      </td><td>no         </td><td>no         </td><td>unknown    </td><td>6          </td><td>...        </td><td>3          </td><td>-1         </td><td>0          </td><td>unknown    </td><td>no         </td><td>383        </td><td>FALSE      </td><td>FALSE      </td><td>FALSE      </td><td>FALSE      </td></tr>\n",
       "\t<tr><td>37         </td><td>Technician </td><td>married    </td><td>tertiary   </td><td>no         </td><td> 8730      </td><td>yes        </td><td>no         </td><td>unknown    </td><td>6          </td><td>...        </td><td>1          </td><td>-1         </td><td>0          </td><td>unknown    </td><td>no         </td><td>392        </td><td>FALSE      </td><td>FALSE      </td><td>FALSE      </td><td>FALSE      </td></tr>\n",
       "\t<tr><td>39         </td><td>Technician </td><td>single     </td><td>unknown    </td><td>no         </td><td>45248      </td><td>yes        </td><td>no         </td><td>unknown    </td><td>6          </td><td>...        </td><td>1          </td><td>-1         </td><td>0          </td><td>unknown    </td><td>yes        </td><td>446        </td><td>FALSE      </td><td>FALSE      </td><td>FALSE      </td><td>FALSE      </td></tr>\n",
       "</tbody>\n",
       "</table>\n"
      ],
      "text/latex": [
       "\\begin{tabular}{r|llllllllllllllllllllll}\n",
       " age & job & marital & education & default & balance & housing & loan & contact & day & ... & campaign & pdays & previous & poutcome & y & bank\\_id & tertiary & primary & secondary & unknown\\\\\n",
       "\\hline\n",
       "\t 51          & Management  & married     & tertiary    & no          & 10635       & yes         & no          & unknown     & 5           & ...         & 1           & -1          & 0           & unknown     & no          &  35         & FALSE       & FALSE       & FALSE       & FALSE      \\\\\n",
       "\t 35          & Blue-collar & single      & secondary   & no          & 12223       & yes         & yes         & unknown     & 5           & ...         & 1           & -1          & 0           & unknown     & no          &  70         & FALSE       & FALSE       & FALSE       & FALSE      \\\\\n",
       "\t 45          & Management  & divorced    & tertiary    & no          & 24598       & yes         & no          & unknown     & 5           & ...         & 3           & -1          & 0           & unknown     & no          & 335         & FALSE       & FALSE       & FALSE       & FALSE      \\\\\n",
       "\t 40          & Management  & married     & secondary   & no          &  8486       & no          & no          & unknown     & 6           & ...         & 3           & -1          & 0           & unknown     & no          & 383         & FALSE       & FALSE       & FALSE       & FALSE      \\\\\n",
       "\t 37          & Technician  & married     & tertiary    & no          &  8730       & yes         & no          & unknown     & 6           & ...         & 1           & -1          & 0           & unknown     & no          & 392         & FALSE       & FALSE       & FALSE       & FALSE      \\\\\n",
       "\t 39          & Technician  & single      & unknown     & no          & 45248       & yes         & no          & unknown     & 6           & ...         & 1           & -1          & 0           & unknown     & yes         & 446         & FALSE       & FALSE       & FALSE       & FALSE      \\\\\n",
       "\\end{tabular}\n"
      ],
      "text/markdown": [
       "\n",
       "age | job | marital | education | default | balance | housing | loan | contact | day | ... | campaign | pdays | previous | poutcome | y | bank_id | tertiary | primary | secondary | unknown | \n",
       "|---|---|---|---|---|---|\n",
       "| 51          | Management  | married     | tertiary    | no          | 10635       | yes         | no          | unknown     | 5           | ...         | 1           | -1          | 0           | unknown     | no          |  35         | FALSE       | FALSE       | FALSE       | FALSE       | \n",
       "| 35          | Blue-collar | single      | secondary   | no          | 12223       | yes         | yes         | unknown     | 5           | ...         | 1           | -1          | 0           | unknown     | no          |  70         | FALSE       | FALSE       | FALSE       | FALSE       | \n",
       "| 45          | Management  | divorced    | tertiary    | no          | 24598       | yes         | no          | unknown     | 5           | ...         | 3           | -1          | 0           | unknown     | no          | 335         | FALSE       | FALSE       | FALSE       | FALSE       | \n",
       "| 40          | Management  | married     | secondary   | no          |  8486       | no          | no          | unknown     | 6           | ...         | 3           | -1          | 0           | unknown     | no          | 383         | FALSE       | FALSE       | FALSE       | FALSE       | \n",
       "| 37          | Technician  | married     | tertiary    | no          |  8730       | yes         | no          | unknown     | 6           | ...         | 1           | -1          | 0           | unknown     | no          | 392         | FALSE       | FALSE       | FALSE       | FALSE       | \n",
       "| 39          | Technician  | single      | unknown     | no          | 45248       | yes         | no          | unknown     | 6           | ...         | 1           | -1          | 0           | unknown     | yes         | 446         | FALSE       | FALSE       | FALSE       | FALSE       | \n",
       "\n",
       "\n"
      ],
      "text/plain": [
       "  age job         marital  education default balance housing loan contact day\n",
       "1 51  Management  married  tertiary  no      10635   yes     no   unknown 5  \n",
       "2 35  Blue-collar single   secondary no      12223   yes     yes  unknown 5  \n",
       "3 45  Management  divorced tertiary  no      24598   yes     no   unknown 5  \n",
       "4 40  Management  married  secondary no       8486   no      no   unknown 6  \n",
       "5 37  Technician  married  tertiary  no       8730   yes     no   unknown 6  \n",
       "6 39  Technician  single   unknown   no      45248   yes     no   unknown 6  \n",
       "  ... campaign pdays previous poutcome y   bank_id tertiary primary secondary\n",
       "1 ... 1        -1    0        unknown  no   35     FALSE    FALSE   FALSE    \n",
       "2 ... 1        -1    0        unknown  no   70     FALSE    FALSE   FALSE    \n",
       "3 ... 3        -1    0        unknown  no  335     FALSE    FALSE   FALSE    \n",
       "4 ... 3        -1    0        unknown  no  383     FALSE    FALSE   FALSE    \n",
       "5 ... 1        -1    0        unknown  no  392     FALSE    FALSE   FALSE    \n",
       "6 ... 1        -1    0        unknown  yes 446     FALSE    FALSE   FALSE    \n",
       "  unknown\n",
       "1 FALSE  \n",
       "2 FALSE  \n",
       "3 FALSE  \n",
       "4 FALSE  \n",
       "5 FALSE  \n",
       "6 FALSE  "
      ]
     },
     "metadata": {},
     "output_type": "display_data"
    },
    {
     "data": {
      "text/html": [
       "'1165 outliers, or 2.91592621330063 % of total.'"
      ],
      "text/latex": [
       "'1165 outliers, or 2.91592621330063 \\% of total.'"
      ],
      "text/markdown": [
       "'1165 outliers, or 2.91592621330063 % of total.'"
      ],
      "text/plain": [
       "[1] \"1165 outliers, or 2.91592621330063 % of total.\""
      ]
     },
     "metadata": {},
     "output_type": "display_data"
    }
   ],
   "source": [
    "# how many outliers do we have?\n",
    "out <- bank %>% dplyr::filter(abs(balance) > 8000)\n",
    "head(out)\n",
    "paste(nrow(out), \"outliers, or\", (nrow(out)/nrow(bank)*100), \"% of total.\")\n"
   ]
  },
  {
   "cell_type": "code",
   "execution_count": 21,
   "metadata": {},
   "outputs": [],
   "source": [
    "# get rid of all the outliers by selecting the balance to [-8000, 8000]\n",
    "bkmk_perf$bal[bkmk_perf$bal < -8000] <- -8000\n",
    "bkmk_perf$bal[bkmk_perf$bal > 8000] <- 8000\n"
   ]
  },
  {
   "cell_type": "code",
   "execution_count": 22,
   "metadata": {},
   "outputs": [],
   "source": [
    "# job and adjustment coefficients for them\n",
    "\n",
    "jobs <- as.data.frame(matrix(c(\n",
    "  \"management\",\"0.99\",\n",
    "  \"technician\",\"0.75\",\n",
    "  \"entrepreneur\",\"0.9\",\n",
    "  \"blue-collar\",\"0.8\",\n",
    "  \"unknown\",\"0.5\",\n",
    "  \"services\",\"0.85\",\n",
    "  \"retired\",\"0.8\"  \n",
    "), ncol=2, byrow = TRUE, dimnames = list(NULL, c(\"job\",\"adjust\"))), stringsAsFactors = FALSE)\n",
    "\n",
    "jobs$job <- as.vector(jobs$job)\n",
    "jobs$adjust <- as.numeric(jobs$adjust)"
   ]
  },
  {
   "cell_type": "code",
   "execution_count": 23,
   "metadata": {},
   "outputs": [],
   "source": [
    "bkmk_perf <- bkmk_perf %>%\n",
    "  dplyr::left_join(jobs, by=c(\"job\")) %>%\n",
    "  dplyr::select(bank_id,age,job,adjust,marital,edumar,bal,housing,dtion)\n"
   ]
  },
  {
   "cell_type": "code",
   "execution_count": 24,
   "metadata": {},
   "outputs": [],
   "source": [
    "# set missing values to 1\n",
    "\n",
    "bkmk_perf$adjust[is.na(bkmk_perf$adjust)] <- 1"
   ]
  },
  {
   "cell_type": "markdown",
   "metadata": {},
   "source": [
    "# Feature Engineering\n",
    "\n",
    "Now, let's calculate some lag features for the clients of the bank.\n",
    "\n",
    "We'll look at the previous N clients, and we'll calculate the percentage of bal, dtion, edumar for those past N clients.\n",
    "\n",
    "For example, taking N=10:\n",
    "\n",
    "    last10customers_bal_per = lagfn_per(bal, 10),\n",
    "    last10customers_dtion_per = lagfn_per(dtion, 10),\n",
    "    last10customers_edumar_per = lagfn_per(edumar, 10),         \n",
    "\n",
    "We'll use three different values for N (10, 30 and 50) to capture short-, medium-, and long-term form.\n",
    "\n"
   ]
  },
  {
   "cell_type": "code",
   "execution_count": 25,
   "metadata": {},
   "outputs": [
    {
     "data": {
      "text/html": [
       "<table>\n",
       "<thead><tr><th scope=col>bank_id</th><th scope=col>age</th><th scope=col>job</th><th scope=col>adjust</th><th scope=col>bal</th><th scope=col>last10customers_bal_per</th><th scope=col>last30customers_bal_per</th><th scope=col>last50customers_bal_per</th><th scope=col>dtion</th><th scope=col>last10customers_dtion_per</th><th scope=col>last30customers_dtion_per</th><th scope=col>last50customers_dtion_per</th><th scope=col>edumar</th><th scope=col>last10customers_edumar_per</th><th scope=col>last30customers_edumar_per</th><th scope=col>last50customers_edumar_per</th></tr></thead>\n",
       "<tbody>\n",
       "</tbody>\n",
       "</table>\n"
      ],
      "text/latex": [
       "\\begin{tabular}{r|llllllllllllllll}\n",
       " bank\\_id & age & job & adjust & bal & last10customers\\_bal\\_per & last30customers\\_bal\\_per & last50customers\\_bal\\_per & dtion & last10customers\\_dtion\\_per & last30customers\\_dtion\\_per & last50customers\\_dtion\\_per & edumar & last10customers\\_edumar\\_per & last30customers\\_edumar\\_per & last50customers\\_edumar\\_per\\\\\n",
       "\\hline\n",
       "\\end{tabular}\n"
      ],
      "text/markdown": [
       "\n",
       "bank_id | age | job | adjust | bal | last10customers_bal_per | last30customers_bal_per | last50customers_bal_per | dtion | last10customers_dtion_per | last30customers_dtion_per | last50customers_dtion_per | edumar | last10customers_edumar_per | last30customers_edumar_per | last50customers_edumar_per | \n",
       "||\n",
       "\n",
       "\n"
      ],
      "text/plain": [
       "     bank_id age job adjust bal last10customers_bal_per last30customers_bal_per\n",
       "     last50customers_bal_per dtion last10customers_dtion_per\n",
       "     last30customers_dtion_per last50customers_dtion_per edumar\n",
       "     last10customers_edumar_per last30customers_edumar_per\n",
       "     last50customers_edumar_per"
      ]
     },
     "metadata": {},
     "output_type": "display_data"
    },
    {
     "data": {
      "text/plain": [
       "    bank_id           age            job                adjust \n",
       " Min.   :    1   Min.   :18.00   Length:39953       Min.   :1  \n",
       " 1st Qu.: 9989   1st Qu.:33.00   Class :character   1st Qu.:1  \n",
       " Median :19977   Median :39.00   Mode  :character   Median :1  \n",
       " Mean   :19977   Mean   :40.94                      Mean   :1  \n",
       " 3rd Qu.:29965   3rd Qu.:48.00                      3rd Qu.:1  \n",
       " Max.   :39953   Max.   :95.00                      Max.   :1  \n",
       "      bal         last10customers_bal_per last30customers_bal_per\n",
       " Min.   :0.0000   Min.   :0.0000          Min.   :0.0000         \n",
       " 1st Qu.:0.0000   1st Qu.:0.2000          1st Qu.:0.2333         \n",
       " Median :0.0000   Median :0.3000          Median :0.3333         \n",
       " Mean   :0.3361   Mean   :0.3351          Mean   :0.3336         \n",
       " 3rd Qu.:1.0000   3rd Qu.:0.5000          3rd Qu.:0.4000         \n",
       " Max.   :1.0000   Max.   :1.0000          Max.   :0.8000         \n",
       " last50customers_bal_per   dtion         last10customers_dtion_per\n",
       " Min.   :0.0000          Mode :logical   Min.   :0.0000           \n",
       " 1st Qu.:0.2600          FALSE:23663     1st Qu.:0.3000           \n",
       " Median :0.3400          TRUE :16290     Median :0.4000           \n",
       " Mean   :0.3322                          Mean   :0.4073           \n",
       " 3rd Qu.:0.4000                          3rd Qu.:0.5000           \n",
       " Max.   :0.7600                          Max.   :1.0000           \n",
       " last30customers_dtion_per last50customers_dtion_per   edumar       \n",
       " Min.   :0.0000            Min.   :0.0000            Mode :logical  \n",
       " 1st Qu.:0.3333            1st Qu.:0.3400            FALSE:33994    \n",
       " Median :0.4000            Median :0.4000            TRUE :5959     \n",
       " Mean   :0.4064            Mean   :0.4053                           \n",
       " 3rd Qu.:0.4667            3rd Qu.:0.4600                           \n",
       " Max.   :0.8333            Max.   :0.7400                           \n",
       " last10customers_edumar_per last30customers_edumar_per\n",
       " Min.   :0.0000             Min.   :0.00000           \n",
       " 1st Qu.:0.0000             1st Qu.:0.00000           \n",
       " Median :0.1000             Median :0.06667           \n",
       " Mean   :0.1488             Mean   :0.14832           \n",
       " 3rd Qu.:0.2000             3rd Qu.:0.23333           \n",
       " Max.   :1.0000             Max.   :0.76667           \n",
       " last50customers_edumar_per\n",
       " Min.   :0.0000            \n",
       " 1st Qu.:0.0200            \n",
       " Median :0.0800            \n",
       " Mean   :0.1479            \n",
       " 3rd Qu.:0.2200            \n",
       " Max.   :0.7400            "
      ]
     },
     "metadata": {},
     "output_type": "display_data"
    }
   ],
   "source": [
    "# Let's calculate some lag features           \n",
    "# we'll take three windows: last 10 customers, last 30 customers, last 50 customers.\n",
    "# for each window we'll calculate some values\n",
    "\n",
    "lagfn <- function(data, width) {\n",
    "  return (rollapplyr(data, width = width + 1, FUN = sum, fill = NA, partial=TRUE) - data)\n",
    "}\n",
    "\n",
    "lagfn_per <- function(data, width) {\n",
    "  return (lagfn(data, width) / width)\n",
    "}\n",
    "\n",
    "bankperf_features <- bkmk_perf %>%\n",
    "  dplyr::arrange(job, age) %>%\n",
    "  dplyr::group_by(job) %>%\n",
    "  dplyr::mutate(\n",
    "    last10customers_bal_per = lagfn_per(bal, 10),\n",
    "    last30customers_bal_per = lagfn_per(bal, 30),\n",
    "    last50customers_bal_per = lagfn_per(bal, 50),\n",
    "    \n",
    "    last10customers_dtion_per = lagfn_per(dtion, 10),\n",
    "    last30customers_dtion_per = lagfn_per(dtion, 30),\n",
    "    last50customers_dtion_per = lagfn_per(dtion, 50),\n",
    "    \n",
    "    last10customers_edumar_per = lagfn_per(edumar, 10),\n",
    "    last30customers_edumar_per = lagfn_per(edumar, 30),\n",
    "    last50customers_edumar_per = lagfn_per(edumar, 50),\n",
    "    \n",
    "    \n",
    "  ) %>%\n",
    "  dplyr::select (\n",
    "    bank_id, age, job,adjust,\n",
    "    bal, last10customers_bal_per, last30customers_bal_per, last50customers_bal_per,\n",
    "    dtion, last10customers_dtion_per, last30customers_dtion_per, last50customers_dtion_per,\n",
    "    edumar,last10customers_edumar_per, last30customers_edumar_per, last50customers_edumar_per\n",
    "    \n",
    "  ) %>%\n",
    "  dplyr::ungroup()\n",
    "\n",
    "head((bankperf_features %>% dplyr::filter(job == \"technician\" & age >= '20')), n = 100)\n",
    "summary(bankperf_features)"
   ]
  },
  {
   "cell_type": "markdown",
   "metadata": {},
   "source": [
    "\n",
    "Now that we have built a series of bank_perf features, we need to fold them back into -bank features.\n",
    "\n"
   ]
  },
  {
   "cell_type": "code",
   "execution_count": 26,
   "metadata": {},
   "outputs": [
    {
     "data": {
      "text/html": [
       "<table>\n",
       "<thead><tr><th scope=col>age</th><th scope=col>marital</th><th scope=col>education</th><th scope=col>housing</th><th scope=col>duration</th><th scope=col>last10customers_bal_per</th><th scope=col>last30customers_bal_per</th><th scope=col>last50customers_bal_per</th><th scope=col>last10customers_dtion_per</th><th scope=col>last30customers_dtion_per</th><th scope=col>last50customers_dtion_per</th><th scope=col>last10customers_edumar_per</th><th scope=col>last30customers_edumar_per</th><th scope=col>last50customers_edumar_per</th><th scope=col>outcome</th></tr></thead>\n",
       "<tbody>\n",
       "\t<tr><td>58        </td><td>married   </td><td>tertiary  </td><td>yes       </td><td>261       </td><td>0.5       </td><td>0.4333333 </td><td>0.42      </td><td>0.2       </td><td>0.3333333 </td><td>0.36      </td><td>0.5       </td><td>0.50000000</td><td>0.54      </td><td>2143      </td></tr>\n",
       "\t<tr><td>44        </td><td>single    </td><td>secondary </td><td>yes       </td><td>151       </td><td>0.4       </td><td>0.3333333 </td><td>0.38      </td><td>0.2       </td><td>0.3000000 </td><td>0.44      </td><td>0.0       </td><td>0.03333333</td><td>0.10      </td><td>  29      </td></tr>\n",
       "\t<tr><td>33        </td><td>married   </td><td>secondary </td><td>yes       </td><td> 76       </td><td>0.3       </td><td>0.3000000 </td><td>0.26      </td><td>0.4       </td><td>0.4333333 </td><td>0.46      </td><td>0.3       </td><td>0.33333333</td><td>0.26      </td><td>   2      </td></tr>\n",
       "\t<tr><td>47        </td><td>married   </td><td>unknown   </td><td>yes       </td><td> 92       </td><td>0.6       </td><td>0.5333333 </td><td>0.44      </td><td>0.5       </td><td>0.4666667 </td><td>0.38      </td><td>0.1       </td><td>0.03333333</td><td>0.02      </td><td>1506      </td></tr>\n",
       "\t<tr><td>33        </td><td>single    </td><td>unknown   </td><td>no        </td><td>198       </td><td>0.3       </td><td>0.3333333 </td><td>0.20      </td><td>0.7       </td><td>0.4000000 </td><td>0.24      </td><td>0.1       </td><td>0.03333333</td><td>0.02      </td><td>   1      </td></tr>\n",
       "\t<tr><td>35        </td><td>married   </td><td>tertiary  </td><td>yes       </td><td>139       </td><td>0.2       </td><td>0.4000000 </td><td>0.44      </td><td>0.3       </td><td>0.3000000 </td><td>0.26      </td><td>0.4       </td><td>0.60000000</td><td>0.62      </td><td> 231      </td></tr>\n",
       "</tbody>\n",
       "</table>\n"
      ],
      "text/latex": [
       "\\begin{tabular}{r|lllllllllllllll}\n",
       " age & marital & education & housing & duration & last10customers\\_bal\\_per & last30customers\\_bal\\_per & last50customers\\_bal\\_per & last10customers\\_dtion\\_per & last30customers\\_dtion\\_per & last50customers\\_dtion\\_per & last10customers\\_edumar\\_per & last30customers\\_edumar\\_per & last50customers\\_edumar\\_per & outcome\\\\\n",
       "\\hline\n",
       "\t 58         & married    & tertiary   & yes        & 261        & 0.5        & 0.4333333  & 0.42       & 0.2        & 0.3333333  & 0.36       & 0.5        & 0.50000000 & 0.54       & 2143      \\\\\n",
       "\t 44         & single     & secondary  & yes        & 151        & 0.4        & 0.3333333  & 0.38       & 0.2        & 0.3000000  & 0.44       & 0.0        & 0.03333333 & 0.10       &   29      \\\\\n",
       "\t 33         & married    & secondary  & yes        &  76        & 0.3        & 0.3000000  & 0.26       & 0.4        & 0.4333333  & 0.46       & 0.3        & 0.33333333 & 0.26       &    2      \\\\\n",
       "\t 47         & married    & unknown    & yes        &  92        & 0.6        & 0.5333333  & 0.44       & 0.5        & 0.4666667  & 0.38       & 0.1        & 0.03333333 & 0.02       & 1506      \\\\\n",
       "\t 33         & single     & unknown    & no         & 198        & 0.3        & 0.3333333  & 0.20       & 0.7        & 0.4000000  & 0.24       & 0.1        & 0.03333333 & 0.02       &    1      \\\\\n",
       "\t 35         & married    & tertiary   & yes        & 139        & 0.2        & 0.4000000  & 0.44       & 0.3        & 0.3000000  & 0.26       & 0.4        & 0.60000000 & 0.62       &  231      \\\\\n",
       "\\end{tabular}\n"
      ],
      "text/markdown": [
       "\n",
       "age | marital | education | housing | duration | last10customers_bal_per | last30customers_bal_per | last50customers_bal_per | last10customers_dtion_per | last30customers_dtion_per | last50customers_dtion_per | last10customers_edumar_per | last30customers_edumar_per | last50customers_edumar_per | outcome | \n",
       "|---|---|---|---|---|---|\n",
       "| 58         | married    | tertiary   | yes        | 261        | 0.5        | 0.4333333  | 0.42       | 0.2        | 0.3333333  | 0.36       | 0.5        | 0.50000000 | 0.54       | 2143       | \n",
       "| 44         | single     | secondary  | yes        | 151        | 0.4        | 0.3333333  | 0.38       | 0.2        | 0.3000000  | 0.44       | 0.0        | 0.03333333 | 0.10       |   29       | \n",
       "| 33         | married    | secondary  | yes        |  76        | 0.3        | 0.3000000  | 0.26       | 0.4        | 0.4333333  | 0.46       | 0.3        | 0.33333333 | 0.26       |    2       | \n",
       "| 47         | married    | unknown    | yes        |  92        | 0.6        | 0.5333333  | 0.44       | 0.5        | 0.4666667  | 0.38       | 0.1        | 0.03333333 | 0.02       | 1506       | \n",
       "| 33         | single     | unknown    | no         | 198        | 0.3        | 0.3333333  | 0.20       | 0.7        | 0.4000000  | 0.24       | 0.1        | 0.03333333 | 0.02       |    1       | \n",
       "| 35         | married    | tertiary   | yes        | 139        | 0.2        | 0.4000000  | 0.44       | 0.3        | 0.3000000  | 0.26       | 0.4        | 0.60000000 | 0.62       |  231       | \n",
       "\n",
       "\n"
      ],
      "text/plain": [
       "  age marital education housing duration last10customers_bal_per\n",
       "1 58  married tertiary  yes     261      0.5                    \n",
       "2 44  single  secondary yes     151      0.4                    \n",
       "3 33  married secondary yes      76      0.3                    \n",
       "4 47  married unknown   yes      92      0.6                    \n",
       "5 33  single  unknown   no      198      0.3                    \n",
       "6 35  married tertiary  yes     139      0.2                    \n",
       "  last30customers_bal_per last50customers_bal_per last10customers_dtion_per\n",
       "1 0.4333333               0.42                    0.2                      \n",
       "2 0.3333333               0.38                    0.2                      \n",
       "3 0.3000000               0.26                    0.4                      \n",
       "4 0.5333333               0.44                    0.5                      \n",
       "5 0.3333333               0.20                    0.7                      \n",
       "6 0.4000000               0.44                    0.3                      \n",
       "  last30customers_dtion_per last50customers_dtion_per\n",
       "1 0.3333333                 0.36                     \n",
       "2 0.3000000                 0.44                     \n",
       "3 0.4333333                 0.46                     \n",
       "4 0.4666667                 0.38                     \n",
       "5 0.4000000                 0.24                     \n",
       "6 0.3000000                 0.26                     \n",
       "  last10customers_edumar_per last30customers_edumar_per\n",
       "1 0.5                        0.50000000                \n",
       "2 0.0                        0.03333333                \n",
       "3 0.3                        0.33333333                \n",
       "4 0.1                        0.03333333                \n",
       "5 0.1                        0.03333333                \n",
       "6 0.4                        0.60000000                \n",
       "  last50customers_edumar_per outcome\n",
       "1 0.54                       2143   \n",
       "2 0.10                         29   \n",
       "3 0.26                          2   \n",
       "4 0.02                       1506   \n",
       "5 0.02                          1   \n",
       "6 0.62                        231   "
      ]
     },
     "metadata": {},
     "output_type": "display_data"
    },
    {
     "data": {
      "text/html": [
       "<ol class=list-inline>\n",
       "\t<li>'age'</li>\n",
       "\t<li>'marital'</li>\n",
       "\t<li>'education'</li>\n",
       "\t<li>'housing'</li>\n",
       "\t<li>'duration'</li>\n",
       "\t<li>'last10customers_bal_per'</li>\n",
       "\t<li>'last30customers_bal_per'</li>\n",
       "\t<li>'last50customers_bal_per'</li>\n",
       "\t<li>'last10customers_dtion_per'</li>\n",
       "\t<li>'last30customers_dtion_per'</li>\n",
       "\t<li>'last50customers_dtion_per'</li>\n",
       "\t<li>'last10customers_edumar_per'</li>\n",
       "\t<li>'last30customers_edumar_per'</li>\n",
       "\t<li>'last50customers_edumar_per'</li>\n",
       "\t<li>'outcome'</li>\n",
       "</ol>\n"
      ],
      "text/latex": [
       "\\begin{enumerate*}\n",
       "\\item 'age'\n",
       "\\item 'marital'\n",
       "\\item 'education'\n",
       "\\item 'housing'\n",
       "\\item 'duration'\n",
       "\\item 'last10customers\\_bal\\_per'\n",
       "\\item 'last30customers\\_bal\\_per'\n",
       "\\item 'last50customers\\_bal\\_per'\n",
       "\\item 'last10customers\\_dtion\\_per'\n",
       "\\item 'last30customers\\_dtion\\_per'\n",
       "\\item 'last50customers\\_dtion\\_per'\n",
       "\\item 'last10customers\\_edumar\\_per'\n",
       "\\item 'last30customers\\_edumar\\_per'\n",
       "\\item 'last50customers\\_edumar\\_per'\n",
       "\\item 'outcome'\n",
       "\\end{enumerate*}\n"
      ],
      "text/markdown": [
       "1. 'age'\n",
       "2. 'marital'\n",
       "3. 'education'\n",
       "4. 'housing'\n",
       "5. 'duration'\n",
       "6. 'last10customers_bal_per'\n",
       "7. 'last30customers_bal_per'\n",
       "8. 'last50customers_bal_per'\n",
       "9. 'last10customers_dtion_per'\n",
       "10. 'last30customers_dtion_per'\n",
       "11. 'last50customers_dtion_per'\n",
       "12. 'last10customers_edumar_per'\n",
       "13. 'last30customers_edumar_per'\n",
       "14. 'last50customers_edumar_per'\n",
       "15. 'outcome'\n",
       "\n",
       "\n"
      ],
      "text/plain": [
       " [1] \"age\"                        \"marital\"                   \n",
       " [3] \"education\"                  \"housing\"                   \n",
       " [5] \"duration\"                   \"last10customers_bal_per\"   \n",
       " [7] \"last30customers_bal_per\"    \"last50customers_bal_per\"   \n",
       " [9] \"last10customers_dtion_per\"  \"last30customers_dtion_per\" \n",
       "[11] \"last50customers_dtion_per\"  \"last10customers_edumar_per\"\n",
       "[13] \"last30customers_edumar_per\" \"last50customers_edumar_per\"\n",
       "[15] \"outcome\"                   "
      ]
     },
     "metadata": {},
     "output_type": "display_data"
    }
   ],
   "source": [
    "# fold per-bank_perf features into per-bank features\n",
    "bank_features <- bank %>%\n",
    "  left_join(bankperf_features, by=c(\"bank_id\", \"age\" = \"age\")) %>%\n",
    "  dplyr::select(\n",
    "    age,marital,education,housing,duration,\n",
    "    last10customers_bal_per,\n",
    "    last30customers_bal_per,\n",
    "    last50customers_bal_per,\n",
    "    last10customers_dtion_per,\n",
    "    last30customers_dtion_per,\n",
    "    last50customers_dtion_per,\n",
    "    last10customers_edumar_per,\n",
    "    last30customers_edumar_per, \n",
    "    last50customers_edumar_per,\n",
    "    outcome=balance\n",
    "  )\n",
    "\n",
    "head(bank_features)\n",
    "names(bank_features)"
   ]
  },
  {
   "cell_type": "markdown",
   "metadata": {},
   "source": [
    "Let's also have a look at how correlated our numeric features are:"
   ]
  },
  {
   "cell_type": "code",
   "execution_count": 27,
   "metadata": {},
   "outputs": [
    {
     "data": {
      "image/png": "[encoded data removed]",
      "text/plain": [
       "Plot with title \"\""
      ]
     },
     "metadata": {},
     "output_type": "display_data"
    }
   ],
   "source": [
    "# correlation matrix\n",
    "cormatrix <- cor(bank_features %>% dplyr::select(-c(marital,education, housing)) )\n",
    "corrplot(cormatrix, type = \"upper\", order = \"original\", tl.col = \"black\", tl.srt = 45, tl.cex = 0.5)\n"
   ]
  },
  {
   "cell_type": "markdown",
   "metadata": {},
   "source": [
    "\n",
    "The next step is to create a training formula for our model - it is going to describe the features we want to use and the outcome we're trying to predict\n"
   ]
  },
  {
   "cell_type": "code",
   "execution_count": 28,
   "metadata": {},
   "outputs": [
    {
     "data": {
      "text/plain": [
       "outcome ~ duration + last10customers_bal_per + last30customers_bal_per + \n",
       "    last50customers_bal_per + last10customers_dtion_per + last30customers_dtion_per + \n",
       "    last50customers_dtion_per + last10customers_edumar_per + \n",
       "    last30customers_edumar_per + last50customers_edumar_per"
      ]
     },
     "metadata": {},
     "output_type": "display_data"
    }
   ],
   "source": [
    "# create the training formula \n",
    "trainformula <- as.formula(paste('outcome',\n",
    "                                 paste(names(bank_features %>% dplyr::select(-c(age,marital,education, housing,outcome))),collapse=' + '),\n",
    "                                 sep=' ~ '))\n",
    "trainformula\n",
    "\n"
   ]
  },
  {
   "cell_type": "markdown",
   "metadata": {},
   "source": [
    "I m going to split our bank_features into a training and a testing dataset.I m going to be using the training data to fit our model, then I m going to use the testing data to evaluate its accuracy."
   ]
  },
  {
   "cell_type": "code",
   "execution_count": 29,
   "metadata": {},
   "outputs": [
    {
     "data": {
      "text/html": [
       "34925"
      ],
      "text/latex": [
       "34925"
      ],
      "text/markdown": [
       "34925"
      ],
      "text/plain": [
       "[1] 34925"
      ]
     },
     "metadata": {},
     "output_type": "display_data"
    },
    {
     "data": {
      "text/html": [
       "4680"
      ],
      "text/latex": [
       "4680"
      ],
      "text/markdown": [
       "4680"
      ],
      "text/plain": [
       "[1] 4680"
      ]
     },
     "metadata": {},
     "output_type": "display_data"
    }
   ],
   "source": [
    "# training and testing datasets\n",
    "\n",
    "data.train1 <- bank_features %>% dplyr::filter(age < '55')\n",
    "data.test1 <- bank_features %>% dplyr::filter(age>= '55' & age <='71')\n",
    "\n",
    "nrow(data.train1)\n",
    "nrow(data.test1)"
   ]
  },
  {
   "cell_type": "markdown",
   "metadata": {},
   "source": [
    "Now it's time to train our model.\n",
    "\n",
    "The R implementation of the random forest algorithm is available in the randomForest package.\n",
    "\n",
    "We're going to tell the algorithm to grow 200 trees."
   ]
  },
  {
   "cell_type": "code",
   "execution_count": 30,
   "metadata": {},
   "outputs": [
    {
     "data": {
      "text/plain": [
       "                Length Class  Mode     \n",
       "call                5  -none- call     \n",
       "type                1  -none- character\n",
       "predicted       34925  -none- numeric  \n",
       "mse               200  -none- numeric  \n",
       "rsq               200  -none- numeric  \n",
       "oob.times       34925  -none- numeric  \n",
       "importance         20  -none- numeric  \n",
       "importanceSD       10  -none- numeric  \n",
       "localImportance     0  -none- NULL     \n",
       "proximity           0  -none- NULL     \n",
       "ntree               1  -none- numeric  \n",
       "mtry                1  -none- numeric  \n",
       "forest             11  -none- list     \n",
       "coefs               0  -none- NULL     \n",
       "y               34925  -none- numeric  \n",
       "test                0  -none- NULL     \n",
       "inbag               0  -none- NULL     \n",
       "terms               3  terms  call     "
      ]
     },
     "metadata": {},
     "output_type": "display_data"
    }
   ],
   "source": [
    "# train a random forest\n",
    "model.randomForest1 <- randomForest::randomForest(trainformula, data = data.train1, \n",
    "                                                  importance = TRUE, ntree = 200)\n",
    "\n",
    "summary(model.randomForest1)"
   ]
  },
  {
   "cell_type": "markdown",
   "metadata": {},
   "source": [
    "\n",
    "# Model Evaluation\n",
    "\n",
    "In order to understand the importance of our predictors to the predicted outcome, we can use some built-in functions from the randomForest package:\n"
   ]
  },
  {
   "cell_type": "code",
   "execution_count": 31,
   "metadata": {},
   "outputs": [
    {
     "data": {
      "text/html": [
       "<table>\n",
       "<thead><tr><th></th><th scope=col>%IncMSE</th></tr></thead>\n",
       "<tbody>\n",
       "\t<tr><th scope=row>duration</th><td>-1.821959</td></tr>\n",
       "\t<tr><th scope=row>last10customers_bal_per</th><td>15.738557</td></tr>\n",
       "\t<tr><th scope=row>last30customers_bal_per</th><td>15.816171</td></tr>\n",
       "\t<tr><th scope=row>last50customers_bal_per</th><td>11.118700</td></tr>\n",
       "\t<tr><th scope=row>last10customers_dtion_per</th><td>14.468942</td></tr>\n",
       "\t<tr><th scope=row>last30customers_dtion_per</th><td> 6.634811</td></tr>\n",
       "\t<tr><th scope=row>last50customers_dtion_per</th><td> 9.468055</td></tr>\n",
       "\t<tr><th scope=row>last10customers_edumar_per</th><td>15.768555</td></tr>\n",
       "\t<tr><th scope=row>last30customers_edumar_per</th><td>15.230907</td></tr>\n",
       "\t<tr><th scope=row>last50customers_edumar_per</th><td>17.298080</td></tr>\n",
       "</tbody>\n",
       "</table>\n"
      ],
      "text/latex": [
       "\\begin{tabular}{r|l}\n",
       "  & \\%IncMSE\\\\\n",
       "\\hline\n",
       "\tduration & -1.821959\\\\\n",
       "\tlast10customers\\_bal\\_per & 15.738557\\\\\n",
       "\tlast30customers\\_bal\\_per & 15.816171\\\\\n",
       "\tlast50customers\\_bal\\_per & 11.118700\\\\\n",
       "\tlast10customers\\_dtion\\_per & 14.468942\\\\\n",
       "\tlast30customers\\_dtion\\_per &  6.634811\\\\\n",
       "\tlast50customers\\_dtion\\_per &  9.468055\\\\\n",
       "\tlast10customers\\_edumar\\_per & 15.768555\\\\\n",
       "\tlast30customers\\_edumar\\_per & 15.230907\\\\\n",
       "\tlast50customers\\_edumar\\_per & 17.298080\\\\\n",
       "\\end{tabular}\n"
      ],
      "text/markdown": [
       "\n",
       "| <!--/--> | %IncMSE | \n",
       "|---|---|---|---|---|---|---|---|---|---|\n",
       "| duration | -1.821959 | \n",
       "| last10customers_bal_per | 15.738557 | \n",
       "| last30customers_bal_per | 15.816171 | \n",
       "| last50customers_bal_per | 11.118700 | \n",
       "| last10customers_dtion_per | 14.468942 | \n",
       "| last30customers_dtion_per |  6.634811 | \n",
       "| last50customers_dtion_per |  9.468055 | \n",
       "| last10customers_edumar_per | 15.768555 | \n",
       "| last30customers_edumar_per | 15.230907 | \n",
       "| last50customers_edumar_per | 17.298080 | \n",
       "\n",
       "\n"
      ],
      "text/plain": [
       "                           %IncMSE  \n",
       "duration                   -1.821959\n",
       "last10customers_bal_per    15.738557\n",
       "last30customers_bal_per    15.816171\n",
       "last50customers_bal_per    11.118700\n",
       "last10customers_dtion_per  14.468942\n",
       "last30customers_dtion_per   6.634811\n",
       "last50customers_dtion_per   9.468055\n",
       "last10customers_edumar_per 15.768555\n",
       "last30customers_edumar_per 15.230907\n",
       "last50customers_edumar_per 17.298080"
      ]
     },
     "metadata": {},
     "output_type": "display_data"
    },
    {
     "data": {
      "image/png": "[encoded data removed]",
      "text/plain": [
       "Plot with title \"model.randomForest1\""
      ]
     },
     "metadata": {},
     "output_type": "display_data"
    }
   ],
   "source": [
    "\n",
    "randomForest::importance(model.randomForest1, type=1)\n",
    "randomForest::varImpPlot(model.randomForest1, type=1)"
   ]
  },
  {
   "cell_type": "markdown",
   "metadata": {},
   "source": [
    "We can now expose our trained model to the test dataset, and calculate performance metrics."
   ]
  },
  {
   "cell_type": "code",
   "execution_count": 32,
   "metadata": {},
   "outputs": [],
   "source": [
    "data.pred.randomForest1 <- predict(model.randomForest1, data.test1, predict.all = TRUE)\n"
   ]
  },
  {
   "cell_type": "code",
   "execution_count": 33,
   "metadata": {},
   "outputs": [],
   "source": [
    "metrics.randomForest1.mae <- Metrics::mae(data.test1$outcome, data.pred.randomForest1$aggregate)\n",
    "metrics.randomForest1.rmse <- Metrics::rmse(data.test1$outcome, data.pred.randomForest1$aggregate)"
   ]
  },
  {
   "cell_type": "code",
   "execution_count": 34,
   "metadata": {},
   "outputs": [
    {
     "data": {
      "text/html": [
       "'Mean Absolute Error: 2109.03476656127'"
      ],
      "text/latex": [
       "'Mean Absolute Error: 2109.03476656127'"
      ],
      "text/markdown": [
       "'Mean Absolute Error: 2109.03476656127'"
      ],
      "text/plain": [
       "[1] \"Mean Absolute Error: 2109.03476656127\""
      ]
     },
     "metadata": {},
     "output_type": "display_data"
    },
    {
     "data": {
      "text/html": [
       "'Root Mean Square Error: 4552.18913274993'"
      ],
      "text/latex": [
       "'Root Mean Square Error: 4552.18913274993'"
      ],
      "text/markdown": [
       "'Root Mean Square Error: 4552.18913274993'"
      ],
      "text/plain": [
       "[1] \"Root Mean Square Error: 4552.18913274993\""
      ]
     },
     "metadata": {},
     "output_type": "display_data"
    }
   ],
   "source": [
    "paste(\"Mean Absolute Error:\", metrics.randomForest1.mae)\n",
    "paste(\"Root Mean Square Error:\",metrics.randomForest1.rmse)\n"
   ]
  },
  {
   "cell_type": "code",
   "execution_count": 35,
   "metadata": {},
   "outputs": [
    {
     "data": {
      "image/png": "[encoded data removed]",
      "text/plain": [
       "Plot with title \"Mean Absolute Error\""
      ]
     },
     "metadata": {},
     "output_type": "display_data"
    }
   ],
   "source": [
    "abs_error <- abs(data.test1$outcome - data.pred.randomForest1$aggregate)\n",
    "plot(abs_error, main=\"Mean Absolute Error\")"
   ]
  }
 ],
 "metadata": {
  "kernelspec": {
   "display_name": "R",
   "language": "R",
   "name": "ir"
  },
  "language_info": {
   "codemirror_mode": "r",
   "file_extension": ".r",
   "mimetype": "text/x-r-source",
   "name": "R",
   "pygments_lexer": "r",
   "version": "3.4.3"
  }
 },
 "nbformat": 4,
 "nbformat_minor": 2
}
